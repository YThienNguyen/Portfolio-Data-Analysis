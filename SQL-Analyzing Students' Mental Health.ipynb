{
 "cells": [
  {
   "cell_type": "code",
   "execution_count": 80,
   "id": "50b006d5-4dfc-4eea-811c-fba94f061aff",
   "metadata": {
    "customType": "sql",
    "dataFrameVariableName": "df",
    "executionTime": 1599,
    "initial": false,
    "integrationId": "89e17161-a224-4a8a-846b-0adc0fe7a4b1",
    "lastSuccessfullyExecutedCode": "-- Start coding here...\nSELECT *\nFROM students\nLIMIT 10;"
   },
   "outputs": [
    {
     "data": {
      "application/com.datacamp.data-table.v1+json": {
       "table": {
        "data": [
         {
          "academic": "Grad",
          "acs": 11,
          "afear": 8,
          "age": 24,
          "age_cate": 4,
          "aguilt": 2,
          "ahome": 9,
          "alone": 3,
          "alone_bi": "No",
          "amiscell": 27,
          "apd": 23,
          "aph": 11,
          "dep": "No",
          "depsev": "Min",
          "deptype": "No",
          "doctor": 4,
          "doctor_bi": "No",
          "english": 5,
          "english_cate": "High",
          "friends": 5,
          "friends_bi": "Yes",
          "gender": "Male",
          "index": 0,
          "inter_dom": "Inter",
          "internet": null,
          "internet_bi": "No",
          "intimate": "",
          "japanese": 3,
          "japanese_cate": "Average",
          "others": 4,
          "others_bi": "No",
          "parents": 6,
          "parents_bi": "Yes",
          "partner": 5,
          "partner_bi": "Yes",
          "phone": 1,
          "phone_bi": "No",
          "profess": 2,
          "professional_bi": "No",
          "region": "SEA",
          "relative": 3,
          "relative_bi": "No",
          "reli": 1,
          "religion": "Yes",
          "religion_bi": "No",
          "stay": 5,
          "stay_cate": "Long",
          "suicide": "No",
          "toas": 91,
          "todep": 0,
          "tosc": 34
         },
         {
          "academic": "Grad",
          "acs": 3,
          "afear": 4,
          "age": 28,
          "age_cate": 5,
          "aguilt": 2,
          "ahome": 7,
          "alone": 1,
          "alone_bi": "No",
          "amiscell": 10,
          "apd": 8,
          "aph": 5,
          "dep": "No",
          "depsev": "Min",
          "deptype": "No",
          "doctor": 4,
          "doctor_bi": "No",
          "english": 4,
          "english_cate": "High",
          "friends": 7,
          "friends_bi": "Yes",
          "gender": "Male",
          "index": 1,
          "inter_dom": "Inter",
          "internet": null,
          "internet_bi": "No",
          "intimate": "",
          "japanese": 4,
          "japanese_cate": "High",
          "others": 1,
          "others_bi": "No",
          "parents": 7,
          "parents_bi": "Yes",
          "partner": 7,
          "partner_bi": "Yes",
          "phone": 4,
          "phone_bi": "No",
          "profess": 4,
          "professional_bi": "No",
          "region": "SEA",
          "relative": 4,
          "relative_bi": "No",
          "reli": 1,
          "religion": "No",
          "religion_bi": "No",
          "stay": 1,
          "stay_cate": "Short",
          "suicide": "No",
          "toas": 39,
          "todep": 2,
          "tosc": 48
         },
         {
          "academic": "Grad",
          "acs": 4,
          "afear": 6,
          "age": 25,
          "age_cate": 4,
          "aguilt": 3,
          "ahome": 4,
          "alone": 1,
          "alone_bi": "No",
          "amiscell": 14,
          "apd": 13,
          "aph": 7,
          "dep": "No",
          "depsev": "Min",
          "deptype": "No",
          "doctor": 1,
          "doctor_bi": "No",
          "english": 4,
          "english_cate": "High",
          "friends": 3,
          "friends_bi": "No",
          "gender": "Male",
          "index": 2,
          "inter_dom": "Inter",
          "internet": null,
          "internet_bi": "No",
          "intimate": "Yes",
          "japanese": 4,
          "japanese_cate": "High",
          "others": 1,
          "others_bi": "No",
          "parents": 3,
          "parents_bi": "No",
          "partner": 3,
          "partner_bi": "No",
          "phone": 2,
          "phone_bi": "No",
          "profess": 1,
          "professional_bi": "No",
          "region": "SEA",
          "relative": 1,
          "relative_bi": "No",
          "reli": 1,
          "religion": "Yes",
          "religion_bi": "No",
          "stay": 6,
          "stay_cate": "Long",
          "suicide": "No",
          "toas": 51,
          "todep": 2,
          "tosc": 41
         },
         {
          "academic": "Grad",
          "acs": 6,
          "afear": 8,
          "age": 29,
          "age_cate": 5,
          "aguilt": 4,
          "ahome": 10,
          "alone": 4,
          "alone_bi": "No",
          "amiscell": 21,
          "apd": 16,
          "aph": 10,
          "dep": "No",
          "depsev": "Min",
          "deptype": "No",
          "doctor": 2,
          "doctor_bi": "No",
          "english": 3,
          "english_cate": "Average",
          "friends": 5,
          "friends_bi": "Yes",
          "gender": "Female",
          "index": 3,
          "inter_dom": "Inter",
          "internet": null,
          "internet_bi": "No",
          "intimate": "No",
          "japanese": 2,
          "japanese_cate": "Low",
          "others": 4,
          "others_bi": "No",
          "parents": 5,
          "parents_bi": "Yes",
          "partner": 5,
          "partner_bi": "Yes",
          "phone": 2,
          "phone_bi": "No",
          "profess": 5,
          "professional_bi": "Yes",
          "region": "EA",
          "relative": 5,
          "relative_bi": "Yes",
          "reli": 2,
          "religion": "No",
          "religion_bi": "No",
          "stay": 1,
          "stay_cate": "Short",
          "suicide": "No",
          "toas": 75,
          "todep": 3,
          "tosc": 37
         },
         {
          "academic": "Grad",
          "acs": 7,
          "afear": 8,
          "age": 28,
          "age_cate": 5,
          "aguilt": 4,
          "ahome": 12,
          "alone": 4,
          "alone_bi": "No",
          "amiscell": 31,
          "apd": 15,
          "aph": 5,
          "dep": "No",
          "depsev": "Min",
          "deptype": "No",
          "doctor": 5,
          "doctor_bi": "Yes",
          "english": 3,
          "english_cate": "Average",
          "friends": 5,
          "friends_bi": "Yes",
          "gender": "Female",
          "index": 4,
          "inter_dom": "Inter",
          "internet": null,
          "internet_bi": "No",
          "intimate": "Yes",
          "japanese": 1,
          "japanese_cate": "Low",
          "others": 4,
          "others_bi": "No",
          "parents": 5,
          "parents_bi": "Yes",
          "partner": 5,
          "partner_bi": "Yes",
          "phone": 2,
          "phone_bi": "No",
          "profess": 5,
          "professional_bi": "Yes",
          "region": "EA",
          "relative": 2,
          "relative_bi": "No",
          "reli": 5,
          "religion": "No",
          "religion_bi": "Yes",
          "stay": 1,
          "stay_cate": "Short",
          "suicide": "No",
          "toas": 82,
          "todep": 3,
          "tosc": 37
         },
         {
          "academic": "Grad",
          "acs": 7,
          "afear": 8,
          "age": 24,
          "age_cate": 4,
          "aguilt": 3,
          "ahome": 8,
          "alone": 5,
          "alone_bi": "Yes",
          "amiscell": 29,
          "apd": 18,
          "aph": 10,
          "dep": "No",
          "depsev": "Mild",
          "deptype": "No",
          "doctor": 2,
          "doctor_bi": "No",
          "english": 4,
          "english_cate": "High",
          "friends": 5,
          "friends_bi": "Yes",
          "gender": "Male",
          "index": 5,
          "inter_dom": "Inter",
          "internet": null,
          "internet_bi": "No",
          "intimate": "Yes",
          "japanese": 3,
          "japanese_cate": "Average",
          "others": 1,
          "others_bi": "No",
          "parents": 4,
          "parents_bi": "No",
          "partner": 6,
          "partner_bi": "Yes",
          "phone": 1,
          "phone_bi": "No",
          "profess": 1,
          "professional_bi": "No",
          "region": "SEA",
          "relative": 2,
          "relative_bi": "No",
          "reli": 1,
          "religion": "No",
          "religion_bi": "No",
          "stay": 6,
          "stay_cate": "Long",
          "suicide": "No",
          "toas": 83,
          "todep": 6,
          "tosc": 38
         },
         {
          "academic": "Grad",
          "acs": 3,
          "afear": 5,
          "age": 23,
          "age_cate": 4,
          "aguilt": 2,
          "ahome": 6,
          "alone": 1,
          "alone_bi": "No",
          "amiscell": 15,
          "apd": 17,
          "aph": 10,
          "dep": "No",
          "depsev": "Min",
          "deptype": "No",
          "doctor": 5,
          "doctor_bi": "Yes",
          "english": 5,
          "english_cate": "High",
          "friends": 5,
          "friends_bi": "Yes",
          "gender": "Male",
          "index": 6,
          "inter_dom": "Inter",
          "internet": null,
          "internet_bi": "No",
          "intimate": "Yes",
          "japanese": 3,
          "japanese_cate": "Average",
          "others": 1,
          "others_bi": "No",
          "parents": 7,
          "parents_bi": "Yes",
          "partner": 7,
          "partner_bi": "Yes",
          "phone": 1,
          "phone_bi": "No",
          "profess": 2,
          "professional_bi": "No",
          "region": "SA",
          "relative": 2,
          "relative_bi": "No",
          "reli": 1,
          "religion": "No",
          "religion_bi": "No",
          "stay": 1,
          "stay_cate": "Short",
          "suicide": "No",
          "toas": 58,
          "todep": 3,
          "tosc": 46
         },
         {
          "academic": "Grad",
          "acs": 11,
          "afear": 15,
          "age": 30,
          "age_cate": 5,
          "aguilt": 6,
          "ahome": 20,
          "alone": 3,
          "alone_bi": "No",
          "amiscell": 40,
          "apd": 16,
          "aph": 19,
          "dep": "No",
          "depsev": "Mild",
          "deptype": "No",
          "doctor": 1,
          "doctor_bi": "No",
          "english": 1,
          "english_cate": "Low",
          "friends": 2,
          "friends_bi": "No",
          "gender": "Female",
          "index": 7,
          "inter_dom": "Inter",
          "internet": null,
          "internet_bi": "No",
          "intimate": "Yes",
          "japanese": 1,
          "japanese_cate": "Low",
          "others": 1,
          "others_bi": "No",
          "parents": 2,
          "parents_bi": "No",
          "partner": 7,
          "partner_bi": "Yes",
          "phone": 2,
          "phone_bi": "No",
          "profess": 6,
          "professional_bi": "Yes",
          "region": "SEA",
          "relative": 2,
          "relative_bi": "No",
          "reli": 1,
          "religion": "Yes",
          "religion_bi": "No",
          "stay": 2,
          "stay_cate": "Medium",
          "suicide": "Yes",
          "toas": 127,
          "todep": 9,
          "tosc": 41
         },
         {
          "academic": "Grad",
          "acs": 10,
          "afear": 13,
          "age": 25,
          "age_cate": 4,
          "aguilt": 6,
          "ahome": 12,
          "alone": 4,
          "alone_bi": "No",
          "amiscell": 33,
          "apd": 22,
          "aph": 13,
          "dep": "Yes",
          "depsev": "Mild",
          "deptype": "Other",
          "doctor": 4,
          "doctor_bi": "No",
          "english": 4,
          "english_cate": "High",
          "friends": 4,
          "friends_bi": "No",
          "gender": "Female",
          "index": 8,
          "inter_dom": "Inter",
          "internet": null,
          "internet_bi": "No",
          "intimate": "No",
          "japanese": 4,
          "japanese_cate": "High",
          "others": 4,
          "others_bi": "No",
          "parents": 4,
          "parents_bi": "No",
          "partner": 4,
          "partner_bi": "No",
          "phone": 4,
          "phone_bi": "No",
          "profess": 4,
          "professional_bi": "No",
          "region": "SEA",
          "relative": 4,
          "relative_bi": "No",
          "reli": 4,
          "religion": "No",
          "religion_bi": "No",
          "stay": 4,
          "stay_cate": "Long",
          "suicide": "No",
          "toas": 109,
          "todep": 7,
          "tosc": 36
         },
         {
          "academic": "Grad",
          "acs": 3,
          "afear": 12,
          "age": 31,
          "age_cate": 5,
          "aguilt": 2,
          "ahome": 4,
          "alone": 2,
          "alone_bi": "No",
          "amiscell": 17,
          "apd": 8,
          "aph": 5,
          "dep": "No",
          "depsev": "Min",
          "deptype": "No",
          "doctor": 2,
          "doctor_bi": "No",
          "english": 4,
          "english_cate": "High",
          "friends": 1,
          "friends_bi": "No",
          "gender": "Male",
          "index": 9,
          "inter_dom": "Inter",
          "internet": null,
          "internet_bi": "No",
          "intimate": "Yes",
          "japanese": 1,
          "japanese_cate": "Low",
          "others": 1,
          "others_bi": "No",
          "parents": 1,
          "parents_bi": "No",
          "partner": 1,
          "partner_bi": "No",
          "phone": 1,
          "phone_bi": "No",
          "profess": 1,
          "professional_bi": "No",
          "region": "Others",
          "relative": 2,
          "relative_bi": "No",
          "reli": 1,
          "religion": "Yes",
          "religion_bi": "No",
          "stay": 2,
          "stay_cate": "Medium",
          "suicide": "No",
          "toas": 51,
          "todep": 3,
          "tosc": 48
         }
        ],
        "schema": {
         "fields": [
          {
           "name": "index",
           "type": "integer"
          },
          {
           "name": "inter_dom",
           "type": "string"
          },
          {
           "name": "region",
           "type": "string"
          },
          {
           "name": "gender",
           "type": "string"
          },
          {
           "name": "academic",
           "type": "string"
          },
          {
           "name": "age",
           "type": "integer"
          },
          {
           "name": "age_cate",
           "type": "integer"
          },
          {
           "name": "stay",
           "type": "integer"
          },
          {
           "name": "stay_cate",
           "type": "string"
          },
          {
           "name": "japanese",
           "type": "integer"
          },
          {
           "name": "japanese_cate",
           "type": "string"
          },
          {
           "name": "english",
           "type": "integer"
          },
          {
           "name": "english_cate",
           "type": "string"
          },
          {
           "name": "intimate",
           "type": "string"
          },
          {
           "name": "religion",
           "type": "string"
          },
          {
           "name": "suicide",
           "type": "string"
          },
          {
           "name": "dep",
           "type": "string"
          },
          {
           "name": "deptype",
           "type": "string"
          },
          {
           "name": "todep",
           "type": "integer"
          },
          {
           "name": "depsev",
           "type": "string"
          },
          {
           "name": "tosc",
           "type": "integer"
          },
          {
           "name": "apd",
           "type": "integer"
          },
          {
           "name": "ahome",
           "type": "integer"
          },
          {
           "name": "aph",
           "type": "integer"
          },
          {
           "name": "afear",
           "type": "integer"
          },
          {
           "name": "acs",
           "type": "integer"
          },
          {
           "name": "aguilt",
           "type": "integer"
          },
          {
           "name": "amiscell",
           "type": "integer"
          },
          {
           "name": "toas",
           "type": "integer"
          },
          {
           "name": "partner",
           "type": "integer"
          },
          {
           "name": "friends",
           "type": "integer"
          },
          {
           "name": "parents",
           "type": "integer"
          },
          {
           "name": "relative",
           "type": "integer"
          },
          {
           "name": "profess",
           "type": "integer"
          },
          {
           "name": "phone",
           "type": "integer"
          },
          {
           "name": "doctor",
           "type": "integer"
          },
          {
           "name": "reli",
           "type": "integer"
          },
          {
           "name": "alone",
           "type": "integer"
          },
          {
           "name": "others",
           "type": "integer"
          },
          {
           "name": "internet",
           "type": "number"
          },
          {
           "name": "partner_bi",
           "type": "string"
          },
          {
           "name": "friends_bi",
           "type": "string"
          },
          {
           "name": "parents_bi",
           "type": "string"
          },
          {
           "name": "relative_bi",
           "type": "string"
          },
          {
           "name": "professional_bi",
           "type": "string"
          },
          {
           "name": "phone_bi",
           "type": "string"
          },
          {
           "name": "doctor_bi",
           "type": "string"
          },
          {
           "name": "religion_bi",
           "type": "string"
          },
          {
           "name": "alone_bi",
           "type": "string"
          },
          {
           "name": "others_bi",
           "type": "string"
          },
          {
           "name": "internet_bi",
           "type": "string"
          }
         ],
         "pandas_version": "1.4.0",
         "primaryKey": [
          "index"
         ]
        }
       },
       "total_rows": 10,
       "truncation_type": null
      },
      "text/html": [
       "<div>\n",
       "<style scoped>\n",
       "    .dataframe tbody tr th:only-of-type {\n",
       "        vertical-align: middle;\n",
       "    }\n",
       "\n",
       "    .dataframe tbody tr th {\n",
       "        vertical-align: top;\n",
       "    }\n",
       "\n",
       "    .dataframe thead th {\n",
       "        text-align: right;\n",
       "    }\n",
       "</style>\n",
       "<table border=\"1\" class=\"dataframe\">\n",
       "  <thead>\n",
       "    <tr style=\"text-align: right;\">\n",
       "      <th></th>\n",
       "      <th>inter_dom</th>\n",
       "      <th>region</th>\n",
       "      <th>gender</th>\n",
       "      <th>academic</th>\n",
       "      <th>age</th>\n",
       "      <th>age_cate</th>\n",
       "      <th>stay</th>\n",
       "      <th>stay_cate</th>\n",
       "      <th>japanese</th>\n",
       "      <th>japanese_cate</th>\n",
       "      <th>english</th>\n",
       "      <th>english_cate</th>\n",
       "      <th>intimate</th>\n",
       "      <th>religion</th>\n",
       "      <th>suicide</th>\n",
       "      <th>dep</th>\n",
       "      <th>deptype</th>\n",
       "      <th>todep</th>\n",
       "      <th>depsev</th>\n",
       "      <th>tosc</th>\n",
       "      <th>apd</th>\n",
       "      <th>ahome</th>\n",
       "      <th>aph</th>\n",
       "      <th>afear</th>\n",
       "      <th>acs</th>\n",
       "      <th>aguilt</th>\n",
       "      <th>amiscell</th>\n",
       "      <th>toas</th>\n",
       "      <th>partner</th>\n",
       "      <th>friends</th>\n",
       "      <th>parents</th>\n",
       "      <th>relative</th>\n",
       "      <th>profess</th>\n",
       "      <th>phone</th>\n",
       "      <th>doctor</th>\n",
       "      <th>reli</th>\n",
       "      <th>alone</th>\n",
       "      <th>others</th>\n",
       "      <th>internet</th>\n",
       "      <th>partner_bi</th>\n",
       "      <th>friends_bi</th>\n",
       "      <th>parents_bi</th>\n",
       "      <th>relative_bi</th>\n",
       "      <th>professional_bi</th>\n",
       "      <th>phone_bi</th>\n",
       "      <th>doctor_bi</th>\n",
       "      <th>religion_bi</th>\n",
       "      <th>alone_bi</th>\n",
       "      <th>others_bi</th>\n",
       "      <th>internet_bi</th>\n",
       "    </tr>\n",
       "  </thead>\n",
       "  <tbody>\n",
       "    <tr>\n",
       "      <th>0</th>\n",
       "      <td>Inter</td>\n",
       "      <td>SEA</td>\n",
       "      <td>Male</td>\n",
       "      <td>Grad</td>\n",
       "      <td>24</td>\n",
       "      <td>4</td>\n",
       "      <td>5</td>\n",
       "      <td>Long</td>\n",
       "      <td>3</td>\n",
       "      <td>Average</td>\n",
       "      <td>5</td>\n",
       "      <td>High</td>\n",
       "      <td></td>\n",
       "      <td>Yes</td>\n",
       "      <td>No</td>\n",
       "      <td>No</td>\n",
       "      <td>No</td>\n",
       "      <td>0</td>\n",
       "      <td>Min</td>\n",
       "      <td>34</td>\n",
       "      <td>23</td>\n",
       "      <td>9</td>\n",
       "      <td>11</td>\n",
       "      <td>8</td>\n",
       "      <td>11</td>\n",
       "      <td>2</td>\n",
       "      <td>27</td>\n",
       "      <td>91</td>\n",
       "      <td>5</td>\n",
       "      <td>5</td>\n",
       "      <td>6</td>\n",
       "      <td>3</td>\n",
       "      <td>2</td>\n",
       "      <td>1</td>\n",
       "      <td>4</td>\n",
       "      <td>1</td>\n",
       "      <td>3</td>\n",
       "      <td>4</td>\n",
       "      <td>NaN</td>\n",
       "      <td>Yes</td>\n",
       "      <td>Yes</td>\n",
       "      <td>Yes</td>\n",
       "      <td>No</td>\n",
       "      <td>No</td>\n",
       "      <td>No</td>\n",
       "      <td>No</td>\n",
       "      <td>No</td>\n",
       "      <td>No</td>\n",
       "      <td>No</td>\n",
       "      <td>No</td>\n",
       "    </tr>\n",
       "    <tr>\n",
       "      <th>1</th>\n",
       "      <td>Inter</td>\n",
       "      <td>SEA</td>\n",
       "      <td>Male</td>\n",
       "      <td>Grad</td>\n",
       "      <td>28</td>\n",
       "      <td>5</td>\n",
       "      <td>1</td>\n",
       "      <td>Short</td>\n",
       "      <td>4</td>\n",
       "      <td>High</td>\n",
       "      <td>4</td>\n",
       "      <td>High</td>\n",
       "      <td></td>\n",
       "      <td>No</td>\n",
       "      <td>No</td>\n",
       "      <td>No</td>\n",
       "      <td>No</td>\n",
       "      <td>2</td>\n",
       "      <td>Min</td>\n",
       "      <td>48</td>\n",
       "      <td>8</td>\n",
       "      <td>7</td>\n",
       "      <td>5</td>\n",
       "      <td>4</td>\n",
       "      <td>3</td>\n",
       "      <td>2</td>\n",
       "      <td>10</td>\n",
       "      <td>39</td>\n",
       "      <td>7</td>\n",
       "      <td>7</td>\n",
       "      <td>7</td>\n",
       "      <td>4</td>\n",
       "      <td>4</td>\n",
       "      <td>4</td>\n",
       "      <td>4</td>\n",
       "      <td>1</td>\n",
       "      <td>1</td>\n",
       "      <td>1</td>\n",
       "      <td>NaN</td>\n",
       "      <td>Yes</td>\n",
       "      <td>Yes</td>\n",
       "      <td>Yes</td>\n",
       "      <td>No</td>\n",
       "      <td>No</td>\n",
       "      <td>No</td>\n",
       "      <td>No</td>\n",
       "      <td>No</td>\n",
       "      <td>No</td>\n",
       "      <td>No</td>\n",
       "      <td>No</td>\n",
       "    </tr>\n",
       "    <tr>\n",
       "      <th>2</th>\n",
       "      <td>Inter</td>\n",
       "      <td>SEA</td>\n",
       "      <td>Male</td>\n",
       "      <td>Grad</td>\n",
       "      <td>25</td>\n",
       "      <td>4</td>\n",
       "      <td>6</td>\n",
       "      <td>Long</td>\n",
       "      <td>4</td>\n",
       "      <td>High</td>\n",
       "      <td>4</td>\n",
       "      <td>High</td>\n",
       "      <td>Yes</td>\n",
       "      <td>Yes</td>\n",
       "      <td>No</td>\n",
       "      <td>No</td>\n",
       "      <td>No</td>\n",
       "      <td>2</td>\n",
       "      <td>Min</td>\n",
       "      <td>41</td>\n",
       "      <td>13</td>\n",
       "      <td>4</td>\n",
       "      <td>7</td>\n",
       "      <td>6</td>\n",
       "      <td>4</td>\n",
       "      <td>3</td>\n",
       "      <td>14</td>\n",
       "      <td>51</td>\n",
       "      <td>3</td>\n",
       "      <td>3</td>\n",
       "      <td>3</td>\n",
       "      <td>1</td>\n",
       "      <td>1</td>\n",
       "      <td>2</td>\n",
       "      <td>1</td>\n",
       "      <td>1</td>\n",
       "      <td>1</td>\n",
       "      <td>1</td>\n",
       "      <td>NaN</td>\n",
       "      <td>No</td>\n",
       "      <td>No</td>\n",
       "      <td>No</td>\n",
       "      <td>No</td>\n",
       "      <td>No</td>\n",
       "      <td>No</td>\n",
       "      <td>No</td>\n",
       "      <td>No</td>\n",
       "      <td>No</td>\n",
       "      <td>No</td>\n",
       "      <td>No</td>\n",
       "    </tr>\n",
       "    <tr>\n",
       "      <th>3</th>\n",
       "      <td>Inter</td>\n",
       "      <td>EA</td>\n",
       "      <td>Female</td>\n",
       "      <td>Grad</td>\n",
       "      <td>29</td>\n",
       "      <td>5</td>\n",
       "      <td>1</td>\n",
       "      <td>Short</td>\n",
       "      <td>2</td>\n",
       "      <td>Low</td>\n",
       "      <td>3</td>\n",
       "      <td>Average</td>\n",
       "      <td>No</td>\n",
       "      <td>No</td>\n",
       "      <td>No</td>\n",
       "      <td>No</td>\n",
       "      <td>No</td>\n",
       "      <td>3</td>\n",
       "      <td>Min</td>\n",
       "      <td>37</td>\n",
       "      <td>16</td>\n",
       "      <td>10</td>\n",
       "      <td>10</td>\n",
       "      <td>8</td>\n",
       "      <td>6</td>\n",
       "      <td>4</td>\n",
       "      <td>21</td>\n",
       "      <td>75</td>\n",
       "      <td>5</td>\n",
       "      <td>5</td>\n",
       "      <td>5</td>\n",
       "      <td>5</td>\n",
       "      <td>5</td>\n",
       "      <td>2</td>\n",
       "      <td>2</td>\n",
       "      <td>2</td>\n",
       "      <td>4</td>\n",
       "      <td>4</td>\n",
       "      <td>NaN</td>\n",
       "      <td>Yes</td>\n",
       "      <td>Yes</td>\n",
       "      <td>Yes</td>\n",
       "      <td>Yes</td>\n",
       "      <td>Yes</td>\n",
       "      <td>No</td>\n",
       "      <td>No</td>\n",
       "      <td>No</td>\n",
       "      <td>No</td>\n",
       "      <td>No</td>\n",
       "      <td>No</td>\n",
       "    </tr>\n",
       "    <tr>\n",
       "      <th>4</th>\n",
       "      <td>Inter</td>\n",
       "      <td>EA</td>\n",
       "      <td>Female</td>\n",
       "      <td>Grad</td>\n",
       "      <td>28</td>\n",
       "      <td>5</td>\n",
       "      <td>1</td>\n",
       "      <td>Short</td>\n",
       "      <td>1</td>\n",
       "      <td>Low</td>\n",
       "      <td>3</td>\n",
       "      <td>Average</td>\n",
       "      <td>Yes</td>\n",
       "      <td>No</td>\n",
       "      <td>No</td>\n",
       "      <td>No</td>\n",
       "      <td>No</td>\n",
       "      <td>3</td>\n",
       "      <td>Min</td>\n",
       "      <td>37</td>\n",
       "      <td>15</td>\n",
       "      <td>12</td>\n",
       "      <td>5</td>\n",
       "      <td>8</td>\n",
       "      <td>7</td>\n",
       "      <td>4</td>\n",
       "      <td>31</td>\n",
       "      <td>82</td>\n",
       "      <td>5</td>\n",
       "      <td>5</td>\n",
       "      <td>5</td>\n",
       "      <td>2</td>\n",
       "      <td>5</td>\n",
       "      <td>2</td>\n",
       "      <td>5</td>\n",
       "      <td>5</td>\n",
       "      <td>4</td>\n",
       "      <td>4</td>\n",
       "      <td>NaN</td>\n",
       "      <td>Yes</td>\n",
       "      <td>Yes</td>\n",
       "      <td>Yes</td>\n",
       "      <td>No</td>\n",
       "      <td>Yes</td>\n",
       "      <td>No</td>\n",
       "      <td>Yes</td>\n",
       "      <td>Yes</td>\n",
       "      <td>No</td>\n",
       "      <td>No</td>\n",
       "      <td>No</td>\n",
       "    </tr>\n",
       "    <tr>\n",
       "      <th>5</th>\n",
       "      <td>Inter</td>\n",
       "      <td>SEA</td>\n",
       "      <td>Male</td>\n",
       "      <td>Grad</td>\n",
       "      <td>24</td>\n",
       "      <td>4</td>\n",
       "      <td>6</td>\n",
       "      <td>Long</td>\n",
       "      <td>3</td>\n",
       "      <td>Average</td>\n",
       "      <td>4</td>\n",
       "      <td>High</td>\n",
       "      <td>Yes</td>\n",
       "      <td>No</td>\n",
       "      <td>No</td>\n",
       "      <td>No</td>\n",
       "      <td>No</td>\n",
       "      <td>6</td>\n",
       "      <td>Mild</td>\n",
       "      <td>38</td>\n",
       "      <td>18</td>\n",
       "      <td>8</td>\n",
       "      <td>10</td>\n",
       "      <td>8</td>\n",
       "      <td>7</td>\n",
       "      <td>3</td>\n",
       "      <td>29</td>\n",
       "      <td>83</td>\n",
       "      <td>6</td>\n",
       "      <td>5</td>\n",
       "      <td>4</td>\n",
       "      <td>2</td>\n",
       "      <td>1</td>\n",
       "      <td>1</td>\n",
       "      <td>2</td>\n",
       "      <td>1</td>\n",
       "      <td>5</td>\n",
       "      <td>1</td>\n",
       "      <td>NaN</td>\n",
       "      <td>Yes</td>\n",
       "      <td>Yes</td>\n",
       "      <td>No</td>\n",
       "      <td>No</td>\n",
       "      <td>No</td>\n",
       "      <td>No</td>\n",
       "      <td>No</td>\n",
       "      <td>No</td>\n",
       "      <td>Yes</td>\n",
       "      <td>No</td>\n",
       "      <td>No</td>\n",
       "    </tr>\n",
       "    <tr>\n",
       "      <th>6</th>\n",
       "      <td>Inter</td>\n",
       "      <td>SA</td>\n",
       "      <td>Male</td>\n",
       "      <td>Grad</td>\n",
       "      <td>23</td>\n",
       "      <td>4</td>\n",
       "      <td>1</td>\n",
       "      <td>Short</td>\n",
       "      <td>3</td>\n",
       "      <td>Average</td>\n",
       "      <td>5</td>\n",
       "      <td>High</td>\n",
       "      <td>Yes</td>\n",
       "      <td>No</td>\n",
       "      <td>No</td>\n",
       "      <td>No</td>\n",
       "      <td>No</td>\n",
       "      <td>3</td>\n",
       "      <td>Min</td>\n",
       "      <td>46</td>\n",
       "      <td>17</td>\n",
       "      <td>6</td>\n",
       "      <td>10</td>\n",
       "      <td>5</td>\n",
       "      <td>3</td>\n",
       "      <td>2</td>\n",
       "      <td>15</td>\n",
       "      <td>58</td>\n",
       "      <td>7</td>\n",
       "      <td>5</td>\n",
       "      <td>7</td>\n",
       "      <td>2</td>\n",
       "      <td>2</td>\n",
       "      <td>1</td>\n",
       "      <td>5</td>\n",
       "      <td>1</td>\n",
       "      <td>1</td>\n",
       "      <td>1</td>\n",
       "      <td>NaN</td>\n",
       "      <td>Yes</td>\n",
       "      <td>Yes</td>\n",
       "      <td>Yes</td>\n",
       "      <td>No</td>\n",
       "      <td>No</td>\n",
       "      <td>No</td>\n",
       "      <td>Yes</td>\n",
       "      <td>No</td>\n",
       "      <td>No</td>\n",
       "      <td>No</td>\n",
       "      <td>No</td>\n",
       "    </tr>\n",
       "    <tr>\n",
       "      <th>7</th>\n",
       "      <td>Inter</td>\n",
       "      <td>SEA</td>\n",
       "      <td>Female</td>\n",
       "      <td>Grad</td>\n",
       "      <td>30</td>\n",
       "      <td>5</td>\n",
       "      <td>2</td>\n",
       "      <td>Medium</td>\n",
       "      <td>1</td>\n",
       "      <td>Low</td>\n",
       "      <td>1</td>\n",
       "      <td>Low</td>\n",
       "      <td>Yes</td>\n",
       "      <td>Yes</td>\n",
       "      <td>Yes</td>\n",
       "      <td>No</td>\n",
       "      <td>No</td>\n",
       "      <td>9</td>\n",
       "      <td>Mild</td>\n",
       "      <td>41</td>\n",
       "      <td>16</td>\n",
       "      <td>20</td>\n",
       "      <td>19</td>\n",
       "      <td>15</td>\n",
       "      <td>11</td>\n",
       "      <td>6</td>\n",
       "      <td>40</td>\n",
       "      <td>127</td>\n",
       "      <td>7</td>\n",
       "      <td>2</td>\n",
       "      <td>2</td>\n",
       "      <td>2</td>\n",
       "      <td>6</td>\n",
       "      <td>2</td>\n",
       "      <td>1</td>\n",
       "      <td>1</td>\n",
       "      <td>3</td>\n",
       "      <td>1</td>\n",
       "      <td>NaN</td>\n",
       "      <td>Yes</td>\n",
       "      <td>No</td>\n",
       "      <td>No</td>\n",
       "      <td>No</td>\n",
       "      <td>Yes</td>\n",
       "      <td>No</td>\n",
       "      <td>No</td>\n",
       "      <td>No</td>\n",
       "      <td>No</td>\n",
       "      <td>No</td>\n",
       "      <td>No</td>\n",
       "    </tr>\n",
       "    <tr>\n",
       "      <th>8</th>\n",
       "      <td>Inter</td>\n",
       "      <td>SEA</td>\n",
       "      <td>Female</td>\n",
       "      <td>Grad</td>\n",
       "      <td>25</td>\n",
       "      <td>4</td>\n",
       "      <td>4</td>\n",
       "      <td>Long</td>\n",
       "      <td>4</td>\n",
       "      <td>High</td>\n",
       "      <td>4</td>\n",
       "      <td>High</td>\n",
       "      <td>No</td>\n",
       "      <td>No</td>\n",
       "      <td>No</td>\n",
       "      <td>Yes</td>\n",
       "      <td>Other</td>\n",
       "      <td>7</td>\n",
       "      <td>Mild</td>\n",
       "      <td>36</td>\n",
       "      <td>22</td>\n",
       "      <td>12</td>\n",
       "      <td>13</td>\n",
       "      <td>13</td>\n",
       "      <td>10</td>\n",
       "      <td>6</td>\n",
       "      <td>33</td>\n",
       "      <td>109</td>\n",
       "      <td>4</td>\n",
       "      <td>4</td>\n",
       "      <td>4</td>\n",
       "      <td>4</td>\n",
       "      <td>4</td>\n",
       "      <td>4</td>\n",
       "      <td>4</td>\n",
       "      <td>4</td>\n",
       "      <td>4</td>\n",
       "      <td>4</td>\n",
       "      <td>NaN</td>\n",
       "      <td>No</td>\n",
       "      <td>No</td>\n",
       "      <td>No</td>\n",
       "      <td>No</td>\n",
       "      <td>No</td>\n",
       "      <td>No</td>\n",
       "      <td>No</td>\n",
       "      <td>No</td>\n",
       "      <td>No</td>\n",
       "      <td>No</td>\n",
       "      <td>No</td>\n",
       "    </tr>\n",
       "    <tr>\n",
       "      <th>9</th>\n",
       "      <td>Inter</td>\n",
       "      <td>Others</td>\n",
       "      <td>Male</td>\n",
       "      <td>Grad</td>\n",
       "      <td>31</td>\n",
       "      <td>5</td>\n",
       "      <td>2</td>\n",
       "      <td>Medium</td>\n",
       "      <td>1</td>\n",
       "      <td>Low</td>\n",
       "      <td>4</td>\n",
       "      <td>High</td>\n",
       "      <td>Yes</td>\n",
       "      <td>Yes</td>\n",
       "      <td>No</td>\n",
       "      <td>No</td>\n",
       "      <td>No</td>\n",
       "      <td>3</td>\n",
       "      <td>Min</td>\n",
       "      <td>48</td>\n",
       "      <td>8</td>\n",
       "      <td>4</td>\n",
       "      <td>5</td>\n",
       "      <td>12</td>\n",
       "      <td>3</td>\n",
       "      <td>2</td>\n",
       "      <td>17</td>\n",
       "      <td>51</td>\n",
       "      <td>1</td>\n",
       "      <td>1</td>\n",
       "      <td>1</td>\n",
       "      <td>2</td>\n",
       "      <td>1</td>\n",
       "      <td>1</td>\n",
       "      <td>2</td>\n",
       "      <td>1</td>\n",
       "      <td>2</td>\n",
       "      <td>1</td>\n",
       "      <td>NaN</td>\n",
       "      <td>No</td>\n",
       "      <td>No</td>\n",
       "      <td>No</td>\n",
       "      <td>No</td>\n",
       "      <td>No</td>\n",
       "      <td>No</td>\n",
       "      <td>No</td>\n",
       "      <td>No</td>\n",
       "      <td>No</td>\n",
       "      <td>No</td>\n",
       "      <td>No</td>\n",
       "    </tr>\n",
       "  </tbody>\n",
       "</table>\n",
       "</div>"
      ],
      "text/plain": [
       "  inter_dom  region  gender academic  ...  religion_bi  alone_bi  others_bi internet_bi\n",
       "0     Inter     SEA    Male     Grad  ...           No        No         No          No\n",
       "1     Inter     SEA    Male     Grad  ...           No        No         No          No\n",
       "2     Inter     SEA    Male     Grad  ...           No        No         No          No\n",
       "3     Inter      EA  Female     Grad  ...           No        No         No          No\n",
       "4     Inter      EA  Female     Grad  ...          Yes        No         No          No\n",
       "5     Inter     SEA    Male     Grad  ...           No       Yes         No          No\n",
       "6     Inter      SA    Male     Grad  ...           No        No         No          No\n",
       "7     Inter     SEA  Female     Grad  ...           No        No         No          No\n",
       "8     Inter     SEA  Female     Grad  ...           No        No         No          No\n",
       "9     Inter  Others    Male     Grad  ...           No        No         No          No\n",
       "\n",
       "[10 rows x 50 columns]"
      ]
     },
     "execution_count": 80,
     "metadata": {},
     "output_type": "execute_result"
    }
   ],
   "source": [
    "SELECT *\n",
    "FROM students\n",
    "LIMIT 10;"
   ]
  },
  {
   "cell_type": "code",
   "execution_count": 81,
   "id": "afffe3be-5498-46f8-a7fe-ca4d3919029c",
   "metadata": {
    "customType": "sql",
    "dataFrameVariableName": "df1",
    "executionTime": 733,
    "lastSuccessfullyExecutedCode": "SELECT inter_dom AS student_type, COUNT(inter_dom) AS count_student_type\nFROM students\nGROUP BY inter_dom",
    "sqlSource": {
     "integrationId": "89e17161-a224-4a8a-846b-0adc0fe7a4b1",
     "type": "integration"
    }
   },
   "outputs": [
    {
     "data": {
      "application/com.datacamp.data-table.v1+json": {
       "table": {
        "data": [
         {
          "count_student_type": 67,
          "index": 0,
          "student_type": "Dom"
         },
         {
          "count_student_type": 18,
          "index": 1,
          "student_type": ""
         },
         {
          "count_student_type": 201,
          "index": 2,
          "student_type": "Inter"
         }
        ],
        "schema": {
         "fields": [
          {
           "name": "index",
           "type": "integer"
          },
          {
           "name": "student_type",
           "type": "string"
          },
          {
           "name": "count_student_type",
           "type": "integer"
          }
         ],
         "pandas_version": "1.4.0",
         "primaryKey": [
          "index"
         ]
        }
       },
       "total_rows": 3,
       "truncation_type": null
      },
      "text/html": [
       "<div>\n",
       "<style scoped>\n",
       "    .dataframe tbody tr th:only-of-type {\n",
       "        vertical-align: middle;\n",
       "    }\n",
       "\n",
       "    .dataframe tbody tr th {\n",
       "        vertical-align: top;\n",
       "    }\n",
       "\n",
       "    .dataframe thead th {\n",
       "        text-align: right;\n",
       "    }\n",
       "</style>\n",
       "<table border=\"1\" class=\"dataframe\">\n",
       "  <thead>\n",
       "    <tr style=\"text-align: right;\">\n",
       "      <th></th>\n",
       "      <th>student_type</th>\n",
       "      <th>count_student_type</th>\n",
       "    </tr>\n",
       "  </thead>\n",
       "  <tbody>\n",
       "    <tr>\n",
       "      <th>0</th>\n",
       "      <td>Dom</td>\n",
       "      <td>67</td>\n",
       "    </tr>\n",
       "    <tr>\n",
       "      <th>1</th>\n",
       "      <td></td>\n",
       "      <td>18</td>\n",
       "    </tr>\n",
       "    <tr>\n",
       "      <th>2</th>\n",
       "      <td>Inter</td>\n",
       "      <td>201</td>\n",
       "    </tr>\n",
       "  </tbody>\n",
       "</table>\n",
       "</div>"
      ],
      "text/plain": [
       "  student_type  count_student_type\n",
       "0          Dom                  67\n",
       "1                               18\n",
       "2        Inter                 201"
      ]
     },
     "execution_count": 81,
     "metadata": {},
     "output_type": "execute_result"
    }
   ],
   "source": [
    "SELECT inter_dom AS student_type, COUNT(inter_dom) AS count_student_type\n",
    "FROM students\n",
    "GROUP BY inter_dom"
   ]
  },
  {
   "cell_type": "code",
   "execution_count": 82,
   "id": "40d83f85-89c7-43a5-a16b-11ab930a2dfa",
   "metadata": {
    "customType": "sql",
    "dataFrameVariableName": "df2",
    "executionTime": 1812,
    "lastSuccessfullyExecutedCode": "SELECT academic, stay, japanese_cate, english_cate, todep, tosc, toas\nFROM public.students\nWHERE inter_dom = 'Inter'\nLIMIT 5;",
    "sqlSource": {
     "integrationId": "89e17161-a224-4a8a-846b-0adc0fe7a4b1",
     "type": "integration"
    }
   },
   "outputs": [
    {
     "data": {
      "application/com.datacamp.data-table.v1+json": {
       "table": {
        "data": [
         {
          "academic": "Grad",
          "english_cate": "High",
          "index": 0,
          "japanese_cate": "Average",
          "stay": 5,
          "toas": 91,
          "todep": 0,
          "tosc": 34
         },
         {
          "academic": "Grad",
          "english_cate": "High",
          "index": 1,
          "japanese_cate": "High",
          "stay": 1,
          "toas": 39,
          "todep": 2,
          "tosc": 48
         },
         {
          "academic": "Grad",
          "english_cate": "High",
          "index": 2,
          "japanese_cate": "High",
          "stay": 6,
          "toas": 51,
          "todep": 2,
          "tosc": 41
         },
         {
          "academic": "Grad",
          "english_cate": "Average",
          "index": 3,
          "japanese_cate": "Low",
          "stay": 1,
          "toas": 75,
          "todep": 3,
          "tosc": 37
         },
         {
          "academic": "Grad",
          "english_cate": "Average",
          "index": 4,
          "japanese_cate": "Low",
          "stay": 1,
          "toas": 82,
          "todep": 3,
          "tosc": 37
         }
        ],
        "schema": {
         "fields": [
          {
           "name": "index",
           "type": "integer"
          },
          {
           "name": "academic",
           "type": "string"
          },
          {
           "name": "stay",
           "type": "integer"
          },
          {
           "name": "japanese_cate",
           "type": "string"
          },
          {
           "name": "english_cate",
           "type": "string"
          },
          {
           "name": "todep",
           "type": "integer"
          },
          {
           "name": "tosc",
           "type": "integer"
          },
          {
           "name": "toas",
           "type": "integer"
          }
         ],
         "pandas_version": "1.4.0",
         "primaryKey": [
          "index"
         ]
        }
       },
       "total_rows": 5,
       "truncation_type": null
      },
      "text/html": [
       "<div>\n",
       "<style scoped>\n",
       "    .dataframe tbody tr th:only-of-type {\n",
       "        vertical-align: middle;\n",
       "    }\n",
       "\n",
       "    .dataframe tbody tr th {\n",
       "        vertical-align: top;\n",
       "    }\n",
       "\n",
       "    .dataframe thead th {\n",
       "        text-align: right;\n",
       "    }\n",
       "</style>\n",
       "<table border=\"1\" class=\"dataframe\">\n",
       "  <thead>\n",
       "    <tr style=\"text-align: right;\">\n",
       "      <th></th>\n",
       "      <th>academic</th>\n",
       "      <th>stay</th>\n",
       "      <th>japanese_cate</th>\n",
       "      <th>english_cate</th>\n",
       "      <th>todep</th>\n",
       "      <th>tosc</th>\n",
       "      <th>toas</th>\n",
       "    </tr>\n",
       "  </thead>\n",
       "  <tbody>\n",
       "    <tr>\n",
       "      <th>0</th>\n",
       "      <td>Grad</td>\n",
       "      <td>5</td>\n",
       "      <td>Average</td>\n",
       "      <td>High</td>\n",
       "      <td>0</td>\n",
       "      <td>34</td>\n",
       "      <td>91</td>\n",
       "    </tr>\n",
       "    <tr>\n",
       "      <th>1</th>\n",
       "      <td>Grad</td>\n",
       "      <td>1</td>\n",
       "      <td>High</td>\n",
       "      <td>High</td>\n",
       "      <td>2</td>\n",
       "      <td>48</td>\n",
       "      <td>39</td>\n",
       "    </tr>\n",
       "    <tr>\n",
       "      <th>2</th>\n",
       "      <td>Grad</td>\n",
       "      <td>6</td>\n",
       "      <td>High</td>\n",
       "      <td>High</td>\n",
       "      <td>2</td>\n",
       "      <td>41</td>\n",
       "      <td>51</td>\n",
       "    </tr>\n",
       "    <tr>\n",
       "      <th>3</th>\n",
       "      <td>Grad</td>\n",
       "      <td>1</td>\n",
       "      <td>Low</td>\n",
       "      <td>Average</td>\n",
       "      <td>3</td>\n",
       "      <td>37</td>\n",
       "      <td>75</td>\n",
       "    </tr>\n",
       "    <tr>\n",
       "      <th>4</th>\n",
       "      <td>Grad</td>\n",
       "      <td>1</td>\n",
       "      <td>Low</td>\n",
       "      <td>Average</td>\n",
       "      <td>3</td>\n",
       "      <td>37</td>\n",
       "      <td>82</td>\n",
       "    </tr>\n",
       "  </tbody>\n",
       "</table>\n",
       "</div>"
      ],
      "text/plain": [
       "  academic  stay japanese_cate english_cate  todep  tosc  toas\n",
       "0     Grad     5       Average         High      0    34    91\n",
       "1     Grad     1          High         High      2    48    39\n",
       "2     Grad     6          High         High      2    41    51\n",
       "3     Grad     1           Low      Average      3    37    75\n",
       "4     Grad     1           Low      Average      3    37    82"
      ]
     },
     "execution_count": 82,
     "metadata": {},
     "output_type": "execute_result"
    }
   ],
   "source": [
    "SELECT academic, stay, japanese_cate, english_cate, todep, tosc, toas\n",
    "FROM public.students\n",
    "WHERE inter_dom = 'Inter'\n",
    "LIMIT 5;"
   ]
  },
  {
   "cell_type": "code",
   "execution_count": 83,
   "id": "92640069-c45f-48b2-a705-6be58774c84a",
   "metadata": {
    "customType": "sql",
    "dataFrameVariableName": "df3",
    "executionTime": 967,
    "lastSuccessfullyExecutedCode": "SELECT academic, stay, japanese_cate, english_cate, todep, tosc, toas\nFROM public.students\nWHERE inter_dom = 'Dom'\nLIMIT 5;",
    "sqlSource": {
     "integrationId": "89e17161-a224-4a8a-846b-0adc0fe7a4b1",
     "type": "integration"
    }
   },
   "outputs": [
    {
     "data": {
      "application/com.datacamp.data-table.v1+json": {
       "table": {
        "data": [
         {
          "academic": "Grad",
          "english_cate": "Average",
          "index": 0,
          "japanese_cate": "Average",
          "stay": 2,
          "toas": 81,
          "todep": 12,
          "tosc": 47
         },
         {
          "academic": "Under",
          "english_cate": "Average",
          "index": 1,
          "japanese_cate": "High",
          "stay": 1,
          "toas": 37,
          "todep": 9,
          "tosc": 48
         },
         {
          "academic": "Under",
          "english_cate": "Average",
          "index": 2,
          "japanese_cate": "High",
          "stay": 3,
          "toas": 72,
          "todep": 7,
          "tosc": 40
         },
         {
          "academic": "Under",
          "english_cate": "Low",
          "index": 3,
          "japanese_cate": "High",
          "stay": 3,
          "toas": 43,
          "todep": 3,
          "tosc": 47
         },
         {
          "academic": "Under",
          "english_cate": "Low",
          "index": 4,
          "japanese_cate": "High",
          "stay": 3,
          "toas": 36,
          "todep": 10,
          "tosc": 48
         }
        ],
        "schema": {
         "fields": [
          {
           "name": "index",
           "type": "integer"
          },
          {
           "name": "academic",
           "type": "string"
          },
          {
           "name": "stay",
           "type": "integer"
          },
          {
           "name": "japanese_cate",
           "type": "string"
          },
          {
           "name": "english_cate",
           "type": "string"
          },
          {
           "name": "todep",
           "type": "integer"
          },
          {
           "name": "tosc",
           "type": "integer"
          },
          {
           "name": "toas",
           "type": "integer"
          }
         ],
         "pandas_version": "1.4.0",
         "primaryKey": [
          "index"
         ]
        }
       },
       "total_rows": 5,
       "truncation_type": null
      },
      "text/html": [
       "<div>\n",
       "<style scoped>\n",
       "    .dataframe tbody tr th:only-of-type {\n",
       "        vertical-align: middle;\n",
       "    }\n",
       "\n",
       "    .dataframe tbody tr th {\n",
       "        vertical-align: top;\n",
       "    }\n",
       "\n",
       "    .dataframe thead th {\n",
       "        text-align: right;\n",
       "    }\n",
       "</style>\n",
       "<table border=\"1\" class=\"dataframe\">\n",
       "  <thead>\n",
       "    <tr style=\"text-align: right;\">\n",
       "      <th></th>\n",
       "      <th>academic</th>\n",
       "      <th>stay</th>\n",
       "      <th>japanese_cate</th>\n",
       "      <th>english_cate</th>\n",
       "      <th>todep</th>\n",
       "      <th>tosc</th>\n",
       "      <th>toas</th>\n",
       "    </tr>\n",
       "  </thead>\n",
       "  <tbody>\n",
       "    <tr>\n",
       "      <th>0</th>\n",
       "      <td>Grad</td>\n",
       "      <td>2</td>\n",
       "      <td>Average</td>\n",
       "      <td>Average</td>\n",
       "      <td>12</td>\n",
       "      <td>47</td>\n",
       "      <td>81</td>\n",
       "    </tr>\n",
       "    <tr>\n",
       "      <th>1</th>\n",
       "      <td>Under</td>\n",
       "      <td>1</td>\n",
       "      <td>High</td>\n",
       "      <td>Average</td>\n",
       "      <td>9</td>\n",
       "      <td>48</td>\n",
       "      <td>37</td>\n",
       "    </tr>\n",
       "    <tr>\n",
       "      <th>2</th>\n",
       "      <td>Under</td>\n",
       "      <td>3</td>\n",
       "      <td>High</td>\n",
       "      <td>Average</td>\n",
       "      <td>7</td>\n",
       "      <td>40</td>\n",
       "      <td>72</td>\n",
       "    </tr>\n",
       "    <tr>\n",
       "      <th>3</th>\n",
       "      <td>Under</td>\n",
       "      <td>3</td>\n",
       "      <td>High</td>\n",
       "      <td>Low</td>\n",
       "      <td>3</td>\n",
       "      <td>47</td>\n",
       "      <td>43</td>\n",
       "    </tr>\n",
       "    <tr>\n",
       "      <th>4</th>\n",
       "      <td>Under</td>\n",
       "      <td>3</td>\n",
       "      <td>High</td>\n",
       "      <td>Low</td>\n",
       "      <td>10</td>\n",
       "      <td>48</td>\n",
       "      <td>36</td>\n",
       "    </tr>\n",
       "  </tbody>\n",
       "</table>\n",
       "</div>"
      ],
      "text/plain": [
       "  academic  stay japanese_cate english_cate  todep  tosc  toas\n",
       "0     Grad     2       Average      Average     12    47    81\n",
       "1    Under     1          High      Average      9    48    37\n",
       "2    Under     3          High      Average      7    40    72\n",
       "3    Under     3          High          Low      3    47    43\n",
       "4    Under     3          High          Low     10    48    36"
      ]
     },
     "execution_count": 83,
     "metadata": {},
     "output_type": "execute_result"
    }
   ],
   "source": [
    "SELECT academic, stay, japanese_cate, english_cate, todep, tosc, toas\n",
    "FROM public.students\n",
    "WHERE inter_dom = 'Dom'\n",
    "LIMIT 5;"
   ]
  },
  {
   "cell_type": "code",
   "execution_count": 84,
   "id": "50e1d437-2f76-4738-a97c-cb5d61dbc73e",
   "metadata": {
    "customType": "sql",
    "dataFrameVariableName": "df4",
    "executionTime": 1062,
    "lastSuccessfullyExecutedCode": "SELECT stay\nFROM students\nWHERE inter_dom = 'Inter'\nORDER BY stay desc  ",
    "sqlSource": {
     "integrationId": "89e17161-a224-4a8a-846b-0adc0fe7a4b1",
     "type": "integration"
    }
   },
   "outputs": [
    {
     "data": {
      "application/com.datacamp.data-table.v1+json": {
       "table": {
        "data": [
         {
          "index": 0,
          "stay": 10
         },
         {
          "index": 1,
          "stay": 8
         },
         {
          "index": 2,
          "stay": 7
         },
         {
          "index": 3,
          "stay": 6
         },
         {
          "index": 4,
          "stay": 6
         },
         {
          "index": 5,
          "stay": 6
         },
         {
          "index": 6,
          "stay": 5
         },
         {
          "index": 7,
          "stay": 4
         },
         {
          "index": 8,
          "stay": 4
         },
         {
          "index": 9,
          "stay": 4
         },
         {
          "index": 10,
          "stay": 4
         },
         {
          "index": 11,
          "stay": 4
         },
         {
          "index": 12,
          "stay": 4
         },
         {
          "index": 13,
          "stay": 4
         },
         {
          "index": 14,
          "stay": 4
         },
         {
          "index": 15,
          "stay": 4
         },
         {
          "index": 16,
          "stay": 4
         },
         {
          "index": 17,
          "stay": 4
         },
         {
          "index": 18,
          "stay": 4
         },
         {
          "index": 19,
          "stay": 4
         },
         {
          "index": 20,
          "stay": 4
         },
         {
          "index": 21,
          "stay": 3
         },
         {
          "index": 22,
          "stay": 3
         },
         {
          "index": 23,
          "stay": 3
         },
         {
          "index": 24,
          "stay": 3
         },
         {
          "index": 25,
          "stay": 3
         },
         {
          "index": 26,
          "stay": 3
         },
         {
          "index": 27,
          "stay": 3
         },
         {
          "index": 28,
          "stay": 3
         },
         {
          "index": 29,
          "stay": 3
         },
         {
          "index": 30,
          "stay": 3
         },
         {
          "index": 31,
          "stay": 3
         },
         {
          "index": 32,
          "stay": 3
         },
         {
          "index": 33,
          "stay": 3
         },
         {
          "index": 34,
          "stay": 3
         },
         {
          "index": 35,
          "stay": 3
         },
         {
          "index": 36,
          "stay": 3
         },
         {
          "index": 37,
          "stay": 3
         },
         {
          "index": 38,
          "stay": 3
         },
         {
          "index": 39,
          "stay": 3
         },
         {
          "index": 40,
          "stay": 3
         },
         {
          "index": 41,
          "stay": 3
         },
         {
          "index": 42,
          "stay": 3
         },
         {
          "index": 43,
          "stay": 3
         },
         {
          "index": 44,
          "stay": 3
         },
         {
          "index": 45,
          "stay": 3
         },
         {
          "index": 46,
          "stay": 3
         },
         {
          "index": 47,
          "stay": 3
         },
         {
          "index": 48,
          "stay": 3
         },
         {
          "index": 49,
          "stay": 3
         },
         {
          "index": 50,
          "stay": 3
         },
         {
          "index": 51,
          "stay": 3
         },
         {
          "index": 52,
          "stay": 3
         },
         {
          "index": 53,
          "stay": 3
         },
         {
          "index": 54,
          "stay": 3
         },
         {
          "index": 55,
          "stay": 3
         },
         {
          "index": 56,
          "stay": 3
         },
         {
          "index": 57,
          "stay": 3
         },
         {
          "index": 58,
          "stay": 3
         },
         {
          "index": 59,
          "stay": 3
         },
         {
          "index": 60,
          "stay": 3
         },
         {
          "index": 61,
          "stay": 3
         },
         {
          "index": 62,
          "stay": 3
         },
         {
          "index": 63,
          "stay": 3
         },
         {
          "index": 64,
          "stay": 3
         },
         {
          "index": 65,
          "stay": 3
         },
         {
          "index": 66,
          "stay": 3
         },
         {
          "index": 67,
          "stay": 2
         },
         {
          "index": 68,
          "stay": 2
         },
         {
          "index": 69,
          "stay": 2
         },
         {
          "index": 70,
          "stay": 2
         },
         {
          "index": 71,
          "stay": 2
         },
         {
          "index": 72,
          "stay": 2
         },
         {
          "index": 73,
          "stay": 2
         },
         {
          "index": 74,
          "stay": 2
         },
         {
          "index": 75,
          "stay": 2
         },
         {
          "index": 76,
          "stay": 2
         },
         {
          "index": 77,
          "stay": 2
         },
         {
          "index": 78,
          "stay": 2
         },
         {
          "index": 79,
          "stay": 2
         },
         {
          "index": 80,
          "stay": 2
         },
         {
          "index": 81,
          "stay": 2
         },
         {
          "index": 82,
          "stay": 2
         },
         {
          "index": 83,
          "stay": 2
         },
         {
          "index": 84,
          "stay": 2
         },
         {
          "index": 85,
          "stay": 2
         },
         {
          "index": 86,
          "stay": 2
         },
         {
          "index": 87,
          "stay": 2
         },
         {
          "index": 88,
          "stay": 2
         },
         {
          "index": 89,
          "stay": 2
         },
         {
          "index": 90,
          "stay": 2
         },
         {
          "index": 91,
          "stay": 2
         },
         {
          "index": 92,
          "stay": 2
         },
         {
          "index": 93,
          "stay": 2
         },
         {
          "index": 94,
          "stay": 2
         },
         {
          "index": 95,
          "stay": 2
         },
         {
          "index": 96,
          "stay": 2
         },
         {
          "index": 97,
          "stay": 2
         },
         {
          "index": 98,
          "stay": 2
         },
         {
          "index": 99,
          "stay": 2
         },
         {
          "index": 100,
          "stay": 2
         },
         {
          "index": 101,
          "stay": 2
         },
         {
          "index": 102,
          "stay": 2
         },
         {
          "index": 103,
          "stay": 2
         },
         {
          "index": 104,
          "stay": 2
         },
         {
          "index": 105,
          "stay": 2
         },
         {
          "index": 106,
          "stay": 1
         },
         {
          "index": 107,
          "stay": 1
         },
         {
          "index": 108,
          "stay": 1
         },
         {
          "index": 109,
          "stay": 1
         },
         {
          "index": 110,
          "stay": 1
         },
         {
          "index": 111,
          "stay": 1
         },
         {
          "index": 112,
          "stay": 1
         },
         {
          "index": 113,
          "stay": 1
         },
         {
          "index": 114,
          "stay": 1
         },
         {
          "index": 115,
          "stay": 1
         },
         {
          "index": 116,
          "stay": 1
         },
         {
          "index": 117,
          "stay": 1
         },
         {
          "index": 118,
          "stay": 1
         },
         {
          "index": 119,
          "stay": 1
         },
         {
          "index": 120,
          "stay": 1
         },
         {
          "index": 121,
          "stay": 1
         },
         {
          "index": 122,
          "stay": 1
         },
         {
          "index": 123,
          "stay": 1
         },
         {
          "index": 124,
          "stay": 1
         },
         {
          "index": 125,
          "stay": 1
         },
         {
          "index": 126,
          "stay": 1
         },
         {
          "index": 127,
          "stay": 1
         },
         {
          "index": 128,
          "stay": 1
         },
         {
          "index": 129,
          "stay": 1
         },
         {
          "index": 130,
          "stay": 1
         },
         {
          "index": 131,
          "stay": 1
         },
         {
          "index": 132,
          "stay": 1
         },
         {
          "index": 133,
          "stay": 1
         },
         {
          "index": 134,
          "stay": 1
         },
         {
          "index": 135,
          "stay": 1
         },
         {
          "index": 136,
          "stay": 1
         },
         {
          "index": 137,
          "stay": 1
         },
         {
          "index": 138,
          "stay": 1
         },
         {
          "index": 139,
          "stay": 1
         },
         {
          "index": 140,
          "stay": 1
         },
         {
          "index": 141,
          "stay": 1
         },
         {
          "index": 142,
          "stay": 1
         },
         {
          "index": 143,
          "stay": 1
         },
         {
          "index": 144,
          "stay": 1
         },
         {
          "index": 145,
          "stay": 1
         },
         {
          "index": 146,
          "stay": 1
         },
         {
          "index": 147,
          "stay": 1
         },
         {
          "index": 148,
          "stay": 1
         },
         {
          "index": 149,
          "stay": 1
         },
         {
          "index": 150,
          "stay": 1
         },
         {
          "index": 151,
          "stay": 1
         },
         {
          "index": 152,
          "stay": 1
         },
         {
          "index": 153,
          "stay": 1
         },
         {
          "index": 154,
          "stay": 1
         },
         {
          "index": 155,
          "stay": 1
         },
         {
          "index": 156,
          "stay": 1
         },
         {
          "index": 157,
          "stay": 1
         },
         {
          "index": 158,
          "stay": 1
         },
         {
          "index": 159,
          "stay": 1
         },
         {
          "index": 160,
          "stay": 1
         },
         {
          "index": 161,
          "stay": 1
         },
         {
          "index": 162,
          "stay": 1
         },
         {
          "index": 163,
          "stay": 1
         },
         {
          "index": 164,
          "stay": 1
         },
         {
          "index": 165,
          "stay": 1
         },
         {
          "index": 166,
          "stay": 1
         },
         {
          "index": 167,
          "stay": 1
         },
         {
          "index": 168,
          "stay": 1
         },
         {
          "index": 169,
          "stay": 1
         },
         {
          "index": 170,
          "stay": 1
         },
         {
          "index": 171,
          "stay": 1
         },
         {
          "index": 172,
          "stay": 1
         },
         {
          "index": 173,
          "stay": 1
         },
         {
          "index": 174,
          "stay": 1
         },
         {
          "index": 175,
          "stay": 1
         },
         {
          "index": 176,
          "stay": 1
         },
         {
          "index": 177,
          "stay": 1
         },
         {
          "index": 178,
          "stay": 1
         },
         {
          "index": 179,
          "stay": 1
         },
         {
          "index": 180,
          "stay": 1
         },
         {
          "index": 181,
          "stay": 1
         },
         {
          "index": 182,
          "stay": 1
         },
         {
          "index": 183,
          "stay": 1
         },
         {
          "index": 184,
          "stay": 1
         },
         {
          "index": 185,
          "stay": 1
         },
         {
          "index": 186,
          "stay": 1
         },
         {
          "index": 187,
          "stay": 1
         },
         {
          "index": 188,
          "stay": 1
         },
         {
          "index": 189,
          "stay": 1
         },
         {
          "index": 190,
          "stay": 1
         },
         {
          "index": 191,
          "stay": 1
         },
         {
          "index": 192,
          "stay": 1
         },
         {
          "index": 193,
          "stay": 1
         },
         {
          "index": 194,
          "stay": 1
         },
         {
          "index": 195,
          "stay": 1
         },
         {
          "index": 196,
          "stay": 1
         },
         {
          "index": 197,
          "stay": 1
         },
         {
          "index": 198,
          "stay": 1
         },
         {
          "index": 199,
          "stay": 1
         },
         {
          "index": 200,
          "stay": 1
         }
        ],
        "schema": {
         "fields": [
          {
           "name": "index",
           "type": "integer"
          },
          {
           "name": "stay",
           "type": "integer"
          }
         ],
         "pandas_version": "1.4.0",
         "primaryKey": [
          "index"
         ]
        }
       },
       "total_rows": 201,
       "truncation_type": null
      },
      "text/html": [
       "<div>\n",
       "<style scoped>\n",
       "    .dataframe tbody tr th:only-of-type {\n",
       "        vertical-align: middle;\n",
       "    }\n",
       "\n",
       "    .dataframe tbody tr th {\n",
       "        vertical-align: top;\n",
       "    }\n",
       "\n",
       "    .dataframe thead th {\n",
       "        text-align: right;\n",
       "    }\n",
       "</style>\n",
       "<table border=\"1\" class=\"dataframe\">\n",
       "  <thead>\n",
       "    <tr style=\"text-align: right;\">\n",
       "      <th></th>\n",
       "      <th>stay</th>\n",
       "    </tr>\n",
       "  </thead>\n",
       "  <tbody>\n",
       "    <tr>\n",
       "      <th>0</th>\n",
       "      <td>10</td>\n",
       "    </tr>\n",
       "    <tr>\n",
       "      <th>1</th>\n",
       "      <td>8</td>\n",
       "    </tr>\n",
       "    <tr>\n",
       "      <th>2</th>\n",
       "      <td>7</td>\n",
       "    </tr>\n",
       "    <tr>\n",
       "      <th>3</th>\n",
       "      <td>6</td>\n",
       "    </tr>\n",
       "    <tr>\n",
       "      <th>4</th>\n",
       "      <td>6</td>\n",
       "    </tr>\n",
       "    <tr>\n",
       "      <th>...</th>\n",
       "      <td>...</td>\n",
       "    </tr>\n",
       "    <tr>\n",
       "      <th>196</th>\n",
       "      <td>1</td>\n",
       "    </tr>\n",
       "    <tr>\n",
       "      <th>197</th>\n",
       "      <td>1</td>\n",
       "    </tr>\n",
       "    <tr>\n",
       "      <th>198</th>\n",
       "      <td>1</td>\n",
       "    </tr>\n",
       "    <tr>\n",
       "      <th>199</th>\n",
       "      <td>1</td>\n",
       "    </tr>\n",
       "    <tr>\n",
       "      <th>200</th>\n",
       "      <td>1</td>\n",
       "    </tr>\n",
       "  </tbody>\n",
       "</table>\n",
       "<p>201 rows × 1 columns</p>\n",
       "</div>"
      ],
      "text/plain": [
       "     stay\n",
       "0      10\n",
       "1       8\n",
       "2       7\n",
       "3       6\n",
       "4       6\n",
       "..    ...\n",
       "196     1\n",
       "197     1\n",
       "198     1\n",
       "199     1\n",
       "200     1\n",
       "\n",
       "[201 rows x 1 columns]"
      ]
     },
     "execution_count": 84,
     "metadata": {},
     "output_type": "execute_result"
    }
   ],
   "source": [
    "SELECT stay\n",
    "FROM students\n",
    "WHERE inter_dom = 'Inter'\n",
    "ORDER BY stay desc  "
   ]
  },
  {
   "cell_type": "code",
   "execution_count": 85,
   "id": "775a57e3-73d6-4f60-8a9e-e776db96a9b2",
   "metadata": {
    "customType": "sql",
    "dataFrameVariableName": "df5",
    "executionTime": 1223,
    "lastSuccessfullyExecutedCode": "SELECT stay\nFROM students\nWHERE inter_dom = 'Dom'\nORDER BY stay desc  ",
    "sqlSource": {
     "integrationId": "89e17161-a224-4a8a-846b-0adc0fe7a4b1",
     "type": "integration"
    }
   },
   "outputs": [
    {
     "data": {
      "application/com.datacamp.data-table.v1+json": {
       "table": {
        "data": [
         {
          "index": 0,
          "stay": 5
         },
         {
          "index": 1,
          "stay": 5
         },
         {
          "index": 2,
          "stay": 4
         },
         {
          "index": 3,
          "stay": 4
         },
         {
          "index": 4,
          "stay": 4
         },
         {
          "index": 5,
          "stay": 4
         },
         {
          "index": 6,
          "stay": 4
         },
         {
          "index": 7,
          "stay": 4
         },
         {
          "index": 8,
          "stay": 4
         },
         {
          "index": 9,
          "stay": 4
         },
         {
          "index": 10,
          "stay": 4
         },
         {
          "index": 11,
          "stay": 3
         },
         {
          "index": 12,
          "stay": 3
         },
         {
          "index": 13,
          "stay": 3
         },
         {
          "index": 14,
          "stay": 3
         },
         {
          "index": 15,
          "stay": 3
         },
         {
          "index": 16,
          "stay": 3
         },
         {
          "index": 17,
          "stay": 3
         },
         {
          "index": 18,
          "stay": 3
         },
         {
          "index": 19,
          "stay": 3
         },
         {
          "index": 20,
          "stay": 3
         },
         {
          "index": 21,
          "stay": 3
         },
         {
          "index": 22,
          "stay": 3
         },
         {
          "index": 23,
          "stay": 3
         },
         {
          "index": 24,
          "stay": 3
         },
         {
          "index": 25,
          "stay": 3
         },
         {
          "index": 26,
          "stay": 3
         },
         {
          "index": 27,
          "stay": 3
         },
         {
          "index": 28,
          "stay": 3
         },
         {
          "index": 29,
          "stay": 3
         },
         {
          "index": 30,
          "stay": 3
         },
         {
          "index": 31,
          "stay": 3
         },
         {
          "index": 32,
          "stay": 3
         },
         {
          "index": 33,
          "stay": 3
         },
         {
          "index": 34,
          "stay": 2
         },
         {
          "index": 35,
          "stay": 2
         },
         {
          "index": 36,
          "stay": 2
         },
         {
          "index": 37,
          "stay": 2
         },
         {
          "index": 38,
          "stay": 2
         },
         {
          "index": 39,
          "stay": 2
         },
         {
          "index": 40,
          "stay": 2
         },
         {
          "index": 41,
          "stay": 2
         },
         {
          "index": 42,
          "stay": 2
         },
         {
          "index": 43,
          "stay": 2
         },
         {
          "index": 44,
          "stay": 2
         },
         {
          "index": 45,
          "stay": 2
         },
         {
          "index": 46,
          "stay": 2
         },
         {
          "index": 47,
          "stay": 1
         },
         {
          "index": 48,
          "stay": 1
         },
         {
          "index": 49,
          "stay": 1
         },
         {
          "index": 50,
          "stay": 1
         },
         {
          "index": 51,
          "stay": 1
         },
         {
          "index": 52,
          "stay": 1
         },
         {
          "index": 53,
          "stay": 1
         },
         {
          "index": 54,
          "stay": 1
         },
         {
          "index": 55,
          "stay": 1
         },
         {
          "index": 56,
          "stay": 1
         },
         {
          "index": 57,
          "stay": 1
         },
         {
          "index": 58,
          "stay": 1
         },
         {
          "index": 59,
          "stay": 1
         },
         {
          "index": 60,
          "stay": 1
         },
         {
          "index": 61,
          "stay": 1
         },
         {
          "index": 62,
          "stay": 1
         },
         {
          "index": 63,
          "stay": 1
         },
         {
          "index": 64,
          "stay": 1
         },
         {
          "index": 65,
          "stay": 1
         },
         {
          "index": 66,
          "stay": 1
         }
        ],
        "schema": {
         "fields": [
          {
           "name": "index",
           "type": "integer"
          },
          {
           "name": "stay",
           "type": "integer"
          }
         ],
         "pandas_version": "1.4.0",
         "primaryKey": [
          "index"
         ]
        }
       },
       "total_rows": 67,
       "truncation_type": null
      },
      "text/html": [
       "<div>\n",
       "<style scoped>\n",
       "    .dataframe tbody tr th:only-of-type {\n",
       "        vertical-align: middle;\n",
       "    }\n",
       "\n",
       "    .dataframe tbody tr th {\n",
       "        vertical-align: top;\n",
       "    }\n",
       "\n",
       "    .dataframe thead th {\n",
       "        text-align: right;\n",
       "    }\n",
       "</style>\n",
       "<table border=\"1\" class=\"dataframe\">\n",
       "  <thead>\n",
       "    <tr style=\"text-align: right;\">\n",
       "      <th></th>\n",
       "      <th>stay</th>\n",
       "    </tr>\n",
       "  </thead>\n",
       "  <tbody>\n",
       "    <tr>\n",
       "      <th>0</th>\n",
       "      <td>5</td>\n",
       "    </tr>\n",
       "    <tr>\n",
       "      <th>1</th>\n",
       "      <td>5</td>\n",
       "    </tr>\n",
       "    <tr>\n",
       "      <th>2</th>\n",
       "      <td>4</td>\n",
       "    </tr>\n",
       "    <tr>\n",
       "      <th>3</th>\n",
       "      <td>4</td>\n",
       "    </tr>\n",
       "    <tr>\n",
       "      <th>4</th>\n",
       "      <td>4</td>\n",
       "    </tr>\n",
       "    <tr>\n",
       "      <th>...</th>\n",
       "      <td>...</td>\n",
       "    </tr>\n",
       "    <tr>\n",
       "      <th>62</th>\n",
       "      <td>1</td>\n",
       "    </tr>\n",
       "    <tr>\n",
       "      <th>63</th>\n",
       "      <td>1</td>\n",
       "    </tr>\n",
       "    <tr>\n",
       "      <th>64</th>\n",
       "      <td>1</td>\n",
       "    </tr>\n",
       "    <tr>\n",
       "      <th>65</th>\n",
       "      <td>1</td>\n",
       "    </tr>\n",
       "    <tr>\n",
       "      <th>66</th>\n",
       "      <td>1</td>\n",
       "    </tr>\n",
       "  </tbody>\n",
       "</table>\n",
       "<p>67 rows × 1 columns</p>\n",
       "</div>"
      ],
      "text/plain": [
       "    stay\n",
       "0      5\n",
       "1      5\n",
       "2      4\n",
       "3      4\n",
       "4      4\n",
       "..   ...\n",
       "62     1\n",
       "63     1\n",
       "64     1\n",
       "65     1\n",
       "66     1\n",
       "\n",
       "[67 rows x 1 columns]"
      ]
     },
     "execution_count": 85,
     "metadata": {},
     "output_type": "execute_result"
    }
   ],
   "source": [
    "SELECT stay\n",
    "FROM students\n",
    "WHERE inter_dom = 'Dom'\n",
    "ORDER BY stay desc  "
   ]
  },
  {
   "cell_type": "code",
   "execution_count": 86,
   "id": "5d883b30-a1c8-4b7b-aa8f-939ee6880b08",
   "metadata": {
    "customType": "sql",
    "dataFrameVariableName": "df9",
    "executionTime": 1088,
    "lastSuccessfullyExecutedCode": "SELECT inter_dom, \n\t\tROUND(MIN(todep),2) AS min_dep, \n\t\tROUND(MAX(todep),2) AS max_dep, \n\t\tROUND(AVG(todep),2) AS avg_todep,\n\t\tROUND(MIN(tosc),2) AS min_sc, \n\t\tROUND(MAX(tosc),2) AS max_sc, \n\t\tROUND(AVG(tosc),2) AS avg_sc,\n\t\tROUND(MIN(toas),2) AS min_as, \n\t\tROUND(MAX(toas),2) AS max_as, \n\t\tROUND(AVG(toas),2) AS avg_as\nFROM students\nWHERE inter_dom='Inter'\nGROUP BY inter_dom",
    "sqlSource": {
     "integrationId": "89e17161-a224-4a8a-846b-0adc0fe7a4b1",
     "type": "integration"
    }
   },
   "outputs": [
    {
     "data": {
      "application/com.datacamp.data-table.v1+json": {
       "table": {
        "data": [
         {
          "avg_as": 75.56,
          "avg_sc": 37.42,
          "avg_todep": 8.04,
          "index": 0,
          "inter_dom": "Inter",
          "max_as": 145,
          "max_dep": 25,
          "max_sc": 48,
          "min_as": 36,
          "min_dep": 0,
          "min_sc": 11
         }
        ],
        "schema": {
         "fields": [
          {
           "name": "index",
           "type": "integer"
          },
          {
           "name": "inter_dom",
           "type": "string"
          },
          {
           "name": "min_dep",
           "type": "number"
          },
          {
           "name": "max_dep",
           "type": "number"
          },
          {
           "name": "avg_todep",
           "type": "number"
          },
          {
           "name": "min_sc",
           "type": "number"
          },
          {
           "name": "max_sc",
           "type": "number"
          },
          {
           "name": "avg_sc",
           "type": "number"
          },
          {
           "name": "min_as",
           "type": "number"
          },
          {
           "name": "max_as",
           "type": "number"
          },
          {
           "name": "avg_as",
           "type": "number"
          }
         ],
         "pandas_version": "1.4.0",
         "primaryKey": [
          "index"
         ]
        }
       },
       "total_rows": 1,
       "truncation_type": null
      },
      "text/html": [
       "<div>\n",
       "<style scoped>\n",
       "    .dataframe tbody tr th:only-of-type {\n",
       "        vertical-align: middle;\n",
       "    }\n",
       "\n",
       "    .dataframe tbody tr th {\n",
       "        vertical-align: top;\n",
       "    }\n",
       "\n",
       "    .dataframe thead th {\n",
       "        text-align: right;\n",
       "    }\n",
       "</style>\n",
       "<table border=\"1\" class=\"dataframe\">\n",
       "  <thead>\n",
       "    <tr style=\"text-align: right;\">\n",
       "      <th></th>\n",
       "      <th>inter_dom</th>\n",
       "      <th>min_dep</th>\n",
       "      <th>max_dep</th>\n",
       "      <th>avg_todep</th>\n",
       "      <th>min_sc</th>\n",
       "      <th>max_sc</th>\n",
       "      <th>avg_sc</th>\n",
       "      <th>min_as</th>\n",
       "      <th>max_as</th>\n",
       "      <th>avg_as</th>\n",
       "    </tr>\n",
       "  </thead>\n",
       "  <tbody>\n",
       "    <tr>\n",
       "      <th>0</th>\n",
       "      <td>Inter</td>\n",
       "      <td>0.0</td>\n",
       "      <td>25.0</td>\n",
       "      <td>8.04</td>\n",
       "      <td>11.0</td>\n",
       "      <td>48.0</td>\n",
       "      <td>37.42</td>\n",
       "      <td>36.0</td>\n",
       "      <td>145.0</td>\n",
       "      <td>75.56</td>\n",
       "    </tr>\n",
       "  </tbody>\n",
       "</table>\n",
       "</div>"
      ],
      "text/plain": [
       "  inter_dom  min_dep  max_dep  avg_todep  ...  avg_sc  min_as  max_as  avg_as\n",
       "0     Inter      0.0     25.0       8.04  ...   37.42    36.0   145.0   75.56\n",
       "\n",
       "[1 rows x 10 columns]"
      ]
     },
     "execution_count": 86,
     "metadata": {},
     "output_type": "execute_result"
    }
   ],
   "source": [
    "SELECT inter_dom, \n",
    "\t\tROUND(MIN(todep),2) AS min_dep, \n",
    "\t\tROUND(MAX(todep),2) AS max_dep, \n",
    "\t\tROUND(AVG(todep),2) AS avg_todep,\n",
    "\t\tROUND(MIN(tosc),2) AS min_sc, \n",
    "\t\tROUND(MAX(tosc),2) AS max_sc, \n",
    "\t\tROUND(AVG(tosc),2) AS avg_sc,\n",
    "\t\tROUND(MIN(toas),2) AS min_as, \n",
    "\t\tROUND(MAX(toas),2) AS max_as, \n",
    "\t\tROUND(AVG(toas),2) AS avg_as\n",
    "FROM students\n",
    "WHERE inter_dom='Inter'\n",
    "GROUP BY inter_dom"
   ]
  },
  {
   "cell_type": "code",
   "execution_count": 87,
   "id": "40999fc3-13c6-424f-ab5a-0a3e8b80854b",
   "metadata": {
    "customType": "sql",
    "dataFrameVariableName": "df10",
    "executionTime": 1524,
    "lastSuccessfullyExecutedCode": "SELECT inter_dom, \n\t\tROUND(MIN(todep),2) AS min_dep, \n\t\tROUND(MAX(todep),2) AS max_dep, \n\t\tROUND(AVG(todep),2) AS avg_todep,\n\t\tROUND(MIN(tosc),2) AS min_sc, \n\t\tROUND(MAX(tosc),2) AS max_sc, \n\t\tROUND(AVG(tosc),2) AS avg_sc,\n\t\tROUND(MIN(toas),2) AS min_as, \n\t\tROUND(MAX(toas),2) AS max_as, \n\t\tROUND(AVG(toas),2) AS avg_as\nFROM students\nWHERE inter_dom='Dom'\nGROUP BY inter_dom",
    "sqlSource": {
     "integrationId": "89e17161-a224-4a8a-846b-0adc0fe7a4b1",
     "type": "integration"
    }
   },
   "outputs": [
    {
     "data": {
      "application/com.datacamp.data-table.v1+json": {
       "table": {
        "data": [
         {
          "avg_as": 62.84,
          "avg_sc": 37.64,
          "avg_todep": 8.61,
          "index": 0,
          "inter_dom": "Dom",
          "max_as": 112,
          "max_dep": 23,
          "max_sc": 48,
          "min_as": 36,
          "min_dep": 0,
          "min_sc": 8
         }
        ],
        "schema": {
         "fields": [
          {
           "name": "index",
           "type": "integer"
          },
          {
           "name": "inter_dom",
           "type": "string"
          },
          {
           "name": "min_dep",
           "type": "number"
          },
          {
           "name": "max_dep",
           "type": "number"
          },
          {
           "name": "avg_todep",
           "type": "number"
          },
          {
           "name": "min_sc",
           "type": "number"
          },
          {
           "name": "max_sc",
           "type": "number"
          },
          {
           "name": "avg_sc",
           "type": "number"
          },
          {
           "name": "min_as",
           "type": "number"
          },
          {
           "name": "max_as",
           "type": "number"
          },
          {
           "name": "avg_as",
           "type": "number"
          }
         ],
         "pandas_version": "1.4.0",
         "primaryKey": [
          "index"
         ]
        }
       },
       "total_rows": 1,
       "truncation_type": null
      },
      "text/html": [
       "<div>\n",
       "<style scoped>\n",
       "    .dataframe tbody tr th:only-of-type {\n",
       "        vertical-align: middle;\n",
       "    }\n",
       "\n",
       "    .dataframe tbody tr th {\n",
       "        vertical-align: top;\n",
       "    }\n",
       "\n",
       "    .dataframe thead th {\n",
       "        text-align: right;\n",
       "    }\n",
       "</style>\n",
       "<table border=\"1\" class=\"dataframe\">\n",
       "  <thead>\n",
       "    <tr style=\"text-align: right;\">\n",
       "      <th></th>\n",
       "      <th>inter_dom</th>\n",
       "      <th>min_dep</th>\n",
       "      <th>max_dep</th>\n",
       "      <th>avg_todep</th>\n",
       "      <th>min_sc</th>\n",
       "      <th>max_sc</th>\n",
       "      <th>avg_sc</th>\n",
       "      <th>min_as</th>\n",
       "      <th>max_as</th>\n",
       "      <th>avg_as</th>\n",
       "    </tr>\n",
       "  </thead>\n",
       "  <tbody>\n",
       "    <tr>\n",
       "      <th>0</th>\n",
       "      <td>Dom</td>\n",
       "      <td>0.0</td>\n",
       "      <td>23.0</td>\n",
       "      <td>8.61</td>\n",
       "      <td>8.0</td>\n",
       "      <td>48.0</td>\n",
       "      <td>37.64</td>\n",
       "      <td>36.0</td>\n",
       "      <td>112.0</td>\n",
       "      <td>62.84</td>\n",
       "    </tr>\n",
       "  </tbody>\n",
       "</table>\n",
       "</div>"
      ],
      "text/plain": [
       "  inter_dom  min_dep  max_dep  avg_todep  ...  avg_sc  min_as  max_as  avg_as\n",
       "0       Dom      0.0     23.0       8.61  ...   37.64    36.0   112.0   62.84\n",
       "\n",
       "[1 rows x 10 columns]"
      ]
     },
     "execution_count": 87,
     "metadata": {},
     "output_type": "execute_result"
    }
   ],
   "source": [
    "SELECT inter_dom, \n",
    "\t\tROUND(MIN(todep),2) AS min_dep, \n",
    "\t\tROUND(MAX(todep),2) AS max_dep, \n",
    "\t\tROUND(AVG(todep),2) AS avg_todep,\n",
    "\t\tROUND(MIN(tosc),2) AS min_sc, \n",
    "\t\tROUND(MAX(tosc),2) AS max_sc, \n",
    "\t\tROUND(AVG(tosc),2) AS avg_sc,\n",
    "\t\tROUND(MIN(toas),2) AS min_as, \n",
    "\t\tROUND(MAX(toas),2) AS max_as, \n",
    "\t\tROUND(AVG(toas),2) AS avg_as\n",
    "FROM students\n",
    "WHERE inter_dom='Dom'\n",
    "GROUP BY inter_dom"
   ]
  },
  {
   "cell_type": "code",
   "execution_count": 88,
   "id": "f97ba622-8e31-4048-a2f5-e3b0eeb8b201",
   "metadata": {
    "customType": "sql",
    "dataFrameVariableName": "df6",
    "executionTime": 1729,
    "lastSuccessfullyExecutedCode": "SELECT inter_dom AS student_type, \n\t\tROUND(AVG(todep),2) AS avg_dep, \n\t\tROUND(AVG(tosc),2) AS avg_sc, \n\t\tROUND(AVG(toas),2) AS avg_as\nFROM students\nGROUP BY inter_dom",
    "sqlSource": {
     "integrationId": "89e17161-a224-4a8a-846b-0adc0fe7a4b1",
     "type": "integration"
    }
   },
   "outputs": [
    {
     "data": {
      "application/com.datacamp.data-table.v1+json": {
       "table": {
        "data": [
         {
          "avg_as": 62.84,
          "avg_dep": 8.61,
          "avg_sc": 37.64,
          "index": 0,
          "student_type": "Dom"
         },
         {
          "avg_as": null,
          "avg_dep": null,
          "avg_sc": null,
          "index": 1,
          "student_type": ""
         },
         {
          "avg_as": 75.56,
          "avg_dep": 8.04,
          "avg_sc": 37.42,
          "index": 2,
          "student_type": "Inter"
         }
        ],
        "schema": {
         "fields": [
          {
           "name": "index",
           "type": "integer"
          },
          {
           "name": "student_type",
           "type": "string"
          },
          {
           "name": "avg_dep",
           "type": "number"
          },
          {
           "name": "avg_sc",
           "type": "number"
          },
          {
           "name": "avg_as",
           "type": "number"
          }
         ],
         "pandas_version": "1.4.0",
         "primaryKey": [
          "index"
         ]
        }
       },
       "total_rows": 3,
       "truncation_type": null
      },
      "text/html": [
       "<div>\n",
       "<style scoped>\n",
       "    .dataframe tbody tr th:only-of-type {\n",
       "        vertical-align: middle;\n",
       "    }\n",
       "\n",
       "    .dataframe tbody tr th {\n",
       "        vertical-align: top;\n",
       "    }\n",
       "\n",
       "    .dataframe thead th {\n",
       "        text-align: right;\n",
       "    }\n",
       "</style>\n",
       "<table border=\"1\" class=\"dataframe\">\n",
       "  <thead>\n",
       "    <tr style=\"text-align: right;\">\n",
       "      <th></th>\n",
       "      <th>student_type</th>\n",
       "      <th>avg_dep</th>\n",
       "      <th>avg_sc</th>\n",
       "      <th>avg_as</th>\n",
       "    </tr>\n",
       "  </thead>\n",
       "  <tbody>\n",
       "    <tr>\n",
       "      <th>0</th>\n",
       "      <td>Dom</td>\n",
       "      <td>8.61</td>\n",
       "      <td>37.64</td>\n",
       "      <td>62.84</td>\n",
       "    </tr>\n",
       "    <tr>\n",
       "      <th>1</th>\n",
       "      <td></td>\n",
       "      <td>NaN</td>\n",
       "      <td>NaN</td>\n",
       "      <td>NaN</td>\n",
       "    </tr>\n",
       "    <tr>\n",
       "      <th>2</th>\n",
       "      <td>Inter</td>\n",
       "      <td>8.04</td>\n",
       "      <td>37.42</td>\n",
       "      <td>75.56</td>\n",
       "    </tr>\n",
       "  </tbody>\n",
       "</table>\n",
       "</div>"
      ],
      "text/plain": [
       "  student_type  avg_dep  avg_sc  avg_as\n",
       "0          Dom     8.61   37.64   62.84\n",
       "1                   NaN     NaN     NaN\n",
       "2        Inter     8.04   37.42   75.56"
      ]
     },
     "execution_count": 88,
     "metadata": {},
     "output_type": "execute_result"
    }
   ],
   "source": [
    "SELECT inter_dom AS student_type, \n",
    "\t\tROUND(AVG(todep),2) AS avg_dep, \n",
    "\t\tROUND(AVG(tosc),2) AS avg_sc, \n",
    "\t\tROUND(AVG(toas),2) AS avg_as\n",
    "FROM students\n",
    "GROUP BY inter_dom"
   ]
  },
  {
   "cell_type": "code",
   "execution_count": 89,
   "id": "70919958-d263-424e-aa93-525dbf910527",
   "metadata": {
    "customType": "sql",
    "dataFrameVariableName": "df8",
    "executionTime": 1360,
    "lastSuccessfullyExecutedCode": "SELECT stay, \n\t\tROUND(AVG(todep),2) AS avg_dep, \n\t\tROUND(AVG(tosc),2) AS avg_sc, \n\t\tROUND(AVG(toas),2) AS avg_as\nFROM students\nWHERE inter_dom='Dom'\nGROUP By stay\nORDER BY stay DESC",
    "sqlSource": {
     "integrationId": "89e17161-a224-4a8a-846b-0adc0fe7a4b1",
     "type": "integration"
    }
   },
   "outputs": [
    {
     "data": {
      "application/com.datacamp.data-table.v1+json": {
       "table": {
        "data": [
         {
          "avg_as": 88,
          "avg_dep": 11.5,
          "avg_sc": 34,
          "index": 0,
          "stay": 5
         },
         {
          "avg_as": 64.78,
          "avg_dep": 7,
          "avg_sc": 36.67,
          "index": 1,
          "stay": 4
         },
         {
          "avg_as": 58.04,
          "avg_dep": 8.43,
          "avg_sc": 39.09,
          "index": 2,
          "stay": 3
         },
         {
          "avg_as": 66.46,
          "avg_dep": 9.46,
          "avg_sc": 37.08,
          "index": 3,
          "stay": 2
         },
         {
          "avg_as": 62.6,
          "avg_dep": 8.7,
          "avg_sc": 37.15,
          "index": 4,
          "stay": 1
         }
        ],
        "schema": {
         "fields": [
          {
           "name": "index",
           "type": "integer"
          },
          {
           "name": "stay",
           "type": "integer"
          },
          {
           "name": "avg_dep",
           "type": "number"
          },
          {
           "name": "avg_sc",
           "type": "number"
          },
          {
           "name": "avg_as",
           "type": "number"
          }
         ],
         "pandas_version": "1.4.0",
         "primaryKey": [
          "index"
         ]
        }
       },
       "total_rows": 5,
       "truncation_type": null
      },
      "text/html": [
       "<div>\n",
       "<style scoped>\n",
       "    .dataframe tbody tr th:only-of-type {\n",
       "        vertical-align: middle;\n",
       "    }\n",
       "\n",
       "    .dataframe tbody tr th {\n",
       "        vertical-align: top;\n",
       "    }\n",
       "\n",
       "    .dataframe thead th {\n",
       "        text-align: right;\n",
       "    }\n",
       "</style>\n",
       "<table border=\"1\" class=\"dataframe\">\n",
       "  <thead>\n",
       "    <tr style=\"text-align: right;\">\n",
       "      <th></th>\n",
       "      <th>stay</th>\n",
       "      <th>avg_dep</th>\n",
       "      <th>avg_sc</th>\n",
       "      <th>avg_as</th>\n",
       "    </tr>\n",
       "  </thead>\n",
       "  <tbody>\n",
       "    <tr>\n",
       "      <th>0</th>\n",
       "      <td>5</td>\n",
       "      <td>11.50</td>\n",
       "      <td>34.00</td>\n",
       "      <td>88.00</td>\n",
       "    </tr>\n",
       "    <tr>\n",
       "      <th>1</th>\n",
       "      <td>4</td>\n",
       "      <td>7.00</td>\n",
       "      <td>36.67</td>\n",
       "      <td>64.78</td>\n",
       "    </tr>\n",
       "    <tr>\n",
       "      <th>2</th>\n",
       "      <td>3</td>\n",
       "      <td>8.43</td>\n",
       "      <td>39.09</td>\n",
       "      <td>58.04</td>\n",
       "    </tr>\n",
       "    <tr>\n",
       "      <th>3</th>\n",
       "      <td>2</td>\n",
       "      <td>9.46</td>\n",
       "      <td>37.08</td>\n",
       "      <td>66.46</td>\n",
       "    </tr>\n",
       "    <tr>\n",
       "      <th>4</th>\n",
       "      <td>1</td>\n",
       "      <td>8.70</td>\n",
       "      <td>37.15</td>\n",
       "      <td>62.60</td>\n",
       "    </tr>\n",
       "  </tbody>\n",
       "</table>\n",
       "</div>"
      ],
      "text/plain": [
       "   stay  avg_dep  avg_sc  avg_as\n",
       "0     5    11.50   34.00   88.00\n",
       "1     4     7.00   36.67   64.78\n",
       "2     3     8.43   39.09   58.04\n",
       "3     2     9.46   37.08   66.46\n",
       "4     1     8.70   37.15   62.60"
      ]
     },
     "execution_count": 89,
     "metadata": {},
     "output_type": "execute_result"
    }
   ],
   "source": [
    "SELECT stay, \n",
    "\t\tROUND(AVG(todep),2) AS avg_dep, \n",
    "\t\tROUND(AVG(tosc),2) AS avg_sc, \n",
    "\t\tROUND(AVG(toas),2) AS avg_as\n",
    "FROM students\n",
    "WHERE inter_dom='Dom'\n",
    "GROUP By stay\n",
    "ORDER BY stay DESC"
   ]
  },
  {
   "cell_type": "code",
   "execution_count": 90,
   "id": "54ca9a8e-038a-4cec-9493-d3d9b0b716b9",
   "metadata": {
    "customType": "sql",
    "dataFrameVariableName": "df7",
    "executionTime": 1338,
    "lastSuccessfullyExecutedCode": "SELECT stay, \n\t\tROUND(AVG(todep),2) AS avg_dep, \n\t\tROUND(AVG(tosc),2) AS avg_sc, \n\t\tROUND(AVG(toas),2) AS avg_as\nFROM students\nWHERE inter_dom='Inter'\nGROUP BY stay\nORDER BY stay desc",
    "sqlSource": {
     "integrationId": "89e17161-a224-4a8a-846b-0adc0fe7a4b1",
     "type": "integration"
    }
   },
   "outputs": [
    {
     "data": {
      "application/com.datacamp.data-table.v1+json": {
       "table": {
        "data": [
         {
          "avg_as": 50,
          "avg_dep": 13,
          "avg_sc": 32,
          "index": 0,
          "stay": 10
         },
         {
          "avg_as": 65,
          "avg_dep": 10,
          "avg_sc": 44,
          "index": 1,
          "stay": 8
         },
         {
          "avg_as": 45,
          "avg_dep": 4,
          "avg_sc": 48,
          "index": 2,
          "stay": 7
         },
         {
          "avg_as": 58.67,
          "avg_dep": 6,
          "avg_sc": 38,
          "index": 3,
          "stay": 6
         },
         {
          "avg_as": 91,
          "avg_dep": 0,
          "avg_sc": 34,
          "index": 4,
          "stay": 5
         },
         {
          "avg_as": 87.71,
          "avg_dep": 8.57,
          "avg_sc": 33.93,
          "index": 5,
          "stay": 4
         },
         {
          "avg_as": 78,
          "avg_dep": 9.09,
          "avg_sc": 37.13,
          "index": 6,
          "stay": 3
         },
         {
          "avg_as": 77.67,
          "avg_dep": 8.28,
          "avg_sc": 37.08,
          "index": 7,
          "stay": 2
         },
         {
          "avg_as": 72.8,
          "avg_dep": 7.48,
          "avg_sc": 38.11,
          "index": 8,
          "stay": 1
         }
        ],
        "schema": {
         "fields": [
          {
           "name": "index",
           "type": "integer"
          },
          {
           "name": "stay",
           "type": "integer"
          },
          {
           "name": "avg_dep",
           "type": "number"
          },
          {
           "name": "avg_sc",
           "type": "number"
          },
          {
           "name": "avg_as",
           "type": "number"
          }
         ],
         "pandas_version": "1.4.0",
         "primaryKey": [
          "index"
         ]
        }
       },
       "total_rows": 9,
       "truncation_type": null
      },
      "text/html": [
       "<div>\n",
       "<style scoped>\n",
       "    .dataframe tbody tr th:only-of-type {\n",
       "        vertical-align: middle;\n",
       "    }\n",
       "\n",
       "    .dataframe tbody tr th {\n",
       "        vertical-align: top;\n",
       "    }\n",
       "\n",
       "    .dataframe thead th {\n",
       "        text-align: right;\n",
       "    }\n",
       "</style>\n",
       "<table border=\"1\" class=\"dataframe\">\n",
       "  <thead>\n",
       "    <tr style=\"text-align: right;\">\n",
       "      <th></th>\n",
       "      <th>stay</th>\n",
       "      <th>avg_dep</th>\n",
       "      <th>avg_sc</th>\n",
       "      <th>avg_as</th>\n",
       "    </tr>\n",
       "  </thead>\n",
       "  <tbody>\n",
       "    <tr>\n",
       "      <th>0</th>\n",
       "      <td>10</td>\n",
       "      <td>13.00</td>\n",
       "      <td>32.00</td>\n",
       "      <td>50.00</td>\n",
       "    </tr>\n",
       "    <tr>\n",
       "      <th>1</th>\n",
       "      <td>8</td>\n",
       "      <td>10.00</td>\n",
       "      <td>44.00</td>\n",
       "      <td>65.00</td>\n",
       "    </tr>\n",
       "    <tr>\n",
       "      <th>2</th>\n",
       "      <td>7</td>\n",
       "      <td>4.00</td>\n",
       "      <td>48.00</td>\n",
       "      <td>45.00</td>\n",
       "    </tr>\n",
       "    <tr>\n",
       "      <th>3</th>\n",
       "      <td>6</td>\n",
       "      <td>6.00</td>\n",
       "      <td>38.00</td>\n",
       "      <td>58.67</td>\n",
       "    </tr>\n",
       "    <tr>\n",
       "      <th>4</th>\n",
       "      <td>5</td>\n",
       "      <td>0.00</td>\n",
       "      <td>34.00</td>\n",
       "      <td>91.00</td>\n",
       "    </tr>\n",
       "    <tr>\n",
       "      <th>5</th>\n",
       "      <td>4</td>\n",
       "      <td>8.57</td>\n",
       "      <td>33.93</td>\n",
       "      <td>87.71</td>\n",
       "    </tr>\n",
       "    <tr>\n",
       "      <th>6</th>\n",
       "      <td>3</td>\n",
       "      <td>9.09</td>\n",
       "      <td>37.13</td>\n",
       "      <td>78.00</td>\n",
       "    </tr>\n",
       "    <tr>\n",
       "      <th>7</th>\n",
       "      <td>2</td>\n",
       "      <td>8.28</td>\n",
       "      <td>37.08</td>\n",
       "      <td>77.67</td>\n",
       "    </tr>\n",
       "    <tr>\n",
       "      <th>8</th>\n",
       "      <td>1</td>\n",
       "      <td>7.48</td>\n",
       "      <td>38.11</td>\n",
       "      <td>72.80</td>\n",
       "    </tr>\n",
       "  </tbody>\n",
       "</table>\n",
       "</div>"
      ],
      "text/plain": [
       "   stay  avg_dep  avg_sc  avg_as\n",
       "0    10    13.00   32.00   50.00\n",
       "1     8    10.00   44.00   65.00\n",
       "2     7     4.00   48.00   45.00\n",
       "3     6     6.00   38.00   58.67\n",
       "4     5     0.00   34.00   91.00\n",
       "5     4     8.57   33.93   87.71\n",
       "6     3     9.09   37.13   78.00\n",
       "7     2     8.28   37.08   77.67\n",
       "8     1     7.48   38.11   72.80"
      ]
     },
     "execution_count": 90,
     "metadata": {},
     "output_type": "execute_result"
    }
   ],
   "source": [
    "SELECT stay, \n",
    "\t\tROUND(AVG(todep),2) AS avg_dep, \n",
    "\t\tROUND(AVG(tosc),2) AS avg_sc, \n",
    "\t\tROUND(AVG(toas),2) AS avg_as\n",
    "FROM students\n",
    "WHERE inter_dom='Inter'\n",
    "GROUP BY stay\n",
    "ORDER BY stay desc"
   ]
  }
 ],
 "metadata": {
  "colab": {
   "name": "Welcome to DataCamp Workspaces.ipynb",
   "provenance": []
  },
  "kernelspec": {
   "display_name": "Python 3 (ipykernel)",
   "language": "python",
   "name": "python3"
  },
  "language_info": {
   "codemirror_mode": {
    "name": "ipython",
    "version": 3
   },
   "file_extension": ".py",
   "mimetype": "text/x-python",
   "name": "python",
   "nbconvert_exporter": "python",
   "pygments_lexer": "ipython3",
   "version": "3.9.7"
  }
 },
 "nbformat": 4,
 "nbformat_minor": 5
}
